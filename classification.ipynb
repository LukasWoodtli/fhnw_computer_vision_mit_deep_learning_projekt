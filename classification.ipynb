{
 "cells": [
  {
   "metadata": {
    "ExecuteTime": {
     "end_time": "2024-11-23T08:44:43.515193Z",
     "start_time": "2024-11-23T08:44:41.743596Z"
    }
   },
   "cell_type": "code",
   "source": [
    "!pip install --upgrade pip\n",
    "!pip install torch torchmetrics lightning robust_downloader prettytable matplotlib jupyter_black"
   ],
   "outputs": [
    {
     "name": "stdout",
     "output_type": "stream",
     "text": [
      "Requirement already satisfied: pip in ./.env/lib/python3.11/site-packages (24.3.1)\r\n",
      "Requirement already satisfied: torch in ./.env/lib/python3.11/site-packages (2.5.1)\r\n",
      "Requirement already satisfied: torchmetrics in ./.env/lib/python3.11/site-packages (1.6.0)\r\n",
      "Requirement already satisfied: lightning in ./.env/lib/python3.11/site-packages (2.4.0)\r\n",
      "Requirement already satisfied: robust_downloader in ./.env/lib/python3.11/site-packages (0.0.2)\r\n",
      "Requirement already satisfied: prettytable in ./.env/lib/python3.11/site-packages (3.12.0)\r\n",
      "Requirement already satisfied: matplotlib in ./.env/lib/python3.11/site-packages (3.9.2)\r\n",
      "Requirement already satisfied: jupyter_black in ./.env/lib/python3.11/site-packages (0.4.0)\r\n",
      "Requirement already satisfied: filelock in ./.env/lib/python3.11/site-packages (from torch) (3.16.1)\r\n",
      "Requirement already satisfied: typing-extensions>=4.8.0 in ./.env/lib/python3.11/site-packages (from torch) (4.12.2)\r\n",
      "Requirement already satisfied: networkx in ./.env/lib/python3.11/site-packages (from torch) (3.4.2)\r\n",
      "Requirement already satisfied: jinja2 in ./.env/lib/python3.11/site-packages (from torch) (3.1.4)\r\n",
      "Requirement already satisfied: fsspec in ./.env/lib/python3.11/site-packages (from torch) (2024.10.0)\r\n",
      "Requirement already satisfied: sympy==1.13.1 in ./.env/lib/python3.11/site-packages (from torch) (1.13.1)\r\n",
      "Requirement already satisfied: mpmath<1.4,>=1.1.0 in ./.env/lib/python3.11/site-packages (from sympy==1.13.1->torch) (1.3.0)\r\n",
      "Requirement already satisfied: numpy>1.20.0 in ./.env/lib/python3.11/site-packages (from torchmetrics) (2.1.3)\r\n",
      "Requirement already satisfied: packaging>17.1 in ./.env/lib/python3.11/site-packages (from torchmetrics) (24.2)\r\n",
      "Requirement already satisfied: lightning-utilities>=0.8.0 in ./.env/lib/python3.11/site-packages (from torchmetrics) (0.11.9)\r\n",
      "Requirement already satisfied: PyYAML<8.0,>=5.4 in ./.env/lib/python3.11/site-packages (from lightning) (6.0.2)\r\n",
      "Requirement already satisfied: tqdm<6.0,>=4.57.0 in ./.env/lib/python3.11/site-packages (from lightning) (4.67.0)\r\n",
      "Requirement already satisfied: pytorch-lightning in ./.env/lib/python3.11/site-packages (from lightning) (2.4.0)\r\n",
      "Requirement already satisfied: colorlog in ./.env/lib/python3.11/site-packages (from robust_downloader) (6.9.0)\r\n",
      "Requirement already satisfied: requests in ./.env/lib/python3.11/site-packages (from robust_downloader) (2.32.3)\r\n",
      "Requirement already satisfied: wcwidth in ./.env/lib/python3.11/site-packages (from prettytable) (0.2.13)\r\n",
      "Requirement already satisfied: contourpy>=1.0.1 in ./.env/lib/python3.11/site-packages (from matplotlib) (1.3.1)\r\n",
      "Requirement already satisfied: cycler>=0.10 in ./.env/lib/python3.11/site-packages (from matplotlib) (0.12.1)\r\n",
      "Requirement already satisfied: fonttools>=4.22.0 in ./.env/lib/python3.11/site-packages (from matplotlib) (4.55.0)\r\n",
      "Requirement already satisfied: kiwisolver>=1.3.1 in ./.env/lib/python3.11/site-packages (from matplotlib) (1.4.7)\r\n",
      "Requirement already satisfied: pillow>=8 in ./.env/lib/python3.11/site-packages (from matplotlib) (11.0.0)\r\n",
      "Requirement already satisfied: pyparsing>=2.3.1 in ./.env/lib/python3.11/site-packages (from matplotlib) (3.2.0)\r\n",
      "Requirement already satisfied: python-dateutil>=2.7 in ./.env/lib/python3.11/site-packages (from matplotlib) (2.9.0.post0)\r\n",
      "Requirement already satisfied: black>=21 in ./.env/lib/python3.11/site-packages (from black[jupyter]>=21->jupyter_black) (24.10.0)\r\n",
      "Requirement already satisfied: click>=8.0.0 in ./.env/lib/python3.11/site-packages (from black>=21->black[jupyter]>=21->jupyter_black) (8.1.7)\r\n",
      "Requirement already satisfied: mypy-extensions>=0.4.3 in ./.env/lib/python3.11/site-packages (from black>=21->black[jupyter]>=21->jupyter_black) (1.0.0)\r\n",
      "Requirement already satisfied: pathspec>=0.9.0 in ./.env/lib/python3.11/site-packages (from black>=21->black[jupyter]>=21->jupyter_black) (0.12.1)\r\n",
      "Requirement already satisfied: platformdirs>=2 in ./.env/lib/python3.11/site-packages (from black>=21->black[jupyter]>=21->jupyter_black) (4.3.6)\r\n",
      "Requirement already satisfied: ipython>=7.8.0 in ./.env/lib/python3.11/site-packages (from black[jupyter]>=21->jupyter_black) (8.29.0)\r\n",
      "Requirement already satisfied: tokenize-rt>=3.2.0 in ./.env/lib/python3.11/site-packages (from black[jupyter]>=21->jupyter_black) (6.1.0)\r\n",
      "Requirement already satisfied: aiohttp!=4.0.0a0,!=4.0.0a1 in ./.env/lib/python3.11/site-packages (from fsspec[http]<2026.0,>=2022.5.0->lightning) (3.11.7)\r\n",
      "Requirement already satisfied: setuptools in ./.env/lib/python3.11/site-packages (from lightning-utilities>=0.8.0->torchmetrics) (68.2.0)\r\n",
      "Requirement already satisfied: six>=1.5 in ./.env/lib/python3.11/site-packages (from python-dateutil>=2.7->matplotlib) (1.16.0)\r\n",
      "Requirement already satisfied: MarkupSafe>=2.0 in ./.env/lib/python3.11/site-packages (from jinja2->torch) (3.0.2)\r\n",
      "Requirement already satisfied: charset-normalizer<4,>=2 in ./.env/lib/python3.11/site-packages (from requests->robust_downloader) (3.4.0)\r\n",
      "Requirement already satisfied: idna<4,>=2.5 in ./.env/lib/python3.11/site-packages (from requests->robust_downloader) (3.10)\r\n",
      "Requirement already satisfied: urllib3<3,>=1.21.1 in ./.env/lib/python3.11/site-packages (from requests->robust_downloader) (2.2.3)\r\n",
      "Requirement already satisfied: certifi>=2017.4.17 in ./.env/lib/python3.11/site-packages (from requests->robust_downloader) (2024.8.30)\r\n",
      "Requirement already satisfied: aiohappyeyeballs>=2.3.0 in ./.env/lib/python3.11/site-packages (from aiohttp!=4.0.0a0,!=4.0.0a1->fsspec[http]<2026.0,>=2022.5.0->lightning) (2.4.3)\r\n",
      "Requirement already satisfied: aiosignal>=1.1.2 in ./.env/lib/python3.11/site-packages (from aiohttp!=4.0.0a0,!=4.0.0a1->fsspec[http]<2026.0,>=2022.5.0->lightning) (1.3.1)\r\n",
      "Requirement already satisfied: attrs>=17.3.0 in ./.env/lib/python3.11/site-packages (from aiohttp!=4.0.0a0,!=4.0.0a1->fsspec[http]<2026.0,>=2022.5.0->lightning) (24.2.0)\r\n",
      "Requirement already satisfied: frozenlist>=1.1.1 in ./.env/lib/python3.11/site-packages (from aiohttp!=4.0.0a0,!=4.0.0a1->fsspec[http]<2026.0,>=2022.5.0->lightning) (1.5.0)\r\n",
      "Requirement already satisfied: multidict<7.0,>=4.5 in ./.env/lib/python3.11/site-packages (from aiohttp!=4.0.0a0,!=4.0.0a1->fsspec[http]<2026.0,>=2022.5.0->lightning) (6.1.0)\r\n",
      "Requirement already satisfied: propcache>=0.2.0 in ./.env/lib/python3.11/site-packages (from aiohttp!=4.0.0a0,!=4.0.0a1->fsspec[http]<2026.0,>=2022.5.0->lightning) (0.2.0)\r\n",
      "Requirement already satisfied: yarl<2.0,>=1.17.0 in ./.env/lib/python3.11/site-packages (from aiohttp!=4.0.0a0,!=4.0.0a1->fsspec[http]<2026.0,>=2022.5.0->lightning) (1.18.0)\r\n",
      "Requirement already satisfied: decorator in ./.env/lib/python3.11/site-packages (from ipython>=7.8.0->black[jupyter]>=21->jupyter_black) (5.1.1)\r\n",
      "Requirement already satisfied: jedi>=0.16 in ./.env/lib/python3.11/site-packages (from ipython>=7.8.0->black[jupyter]>=21->jupyter_black) (0.19.2)\r\n",
      "Requirement already satisfied: matplotlib-inline in ./.env/lib/python3.11/site-packages (from ipython>=7.8.0->black[jupyter]>=21->jupyter_black) (0.1.7)\r\n",
      "Requirement already satisfied: prompt-toolkit<3.1.0,>=3.0.41 in ./.env/lib/python3.11/site-packages (from ipython>=7.8.0->black[jupyter]>=21->jupyter_black) (3.0.48)\r\n",
      "Requirement already satisfied: pygments>=2.4.0 in ./.env/lib/python3.11/site-packages (from ipython>=7.8.0->black[jupyter]>=21->jupyter_black) (2.18.0)\r\n",
      "Requirement already satisfied: stack-data in ./.env/lib/python3.11/site-packages (from ipython>=7.8.0->black[jupyter]>=21->jupyter_black) (0.6.3)\r\n",
      "Requirement already satisfied: traitlets>=5.13.0 in ./.env/lib/python3.11/site-packages (from ipython>=7.8.0->black[jupyter]>=21->jupyter_black) (5.14.3)\r\n",
      "Requirement already satisfied: pexpect>4.3 in ./.env/lib/python3.11/site-packages (from ipython>=7.8.0->black[jupyter]>=21->jupyter_black) (4.9.0)\r\n",
      "Requirement already satisfied: parso<0.9.0,>=0.8.4 in ./.env/lib/python3.11/site-packages (from jedi>=0.16->ipython>=7.8.0->black[jupyter]>=21->jupyter_black) (0.8.4)\r\n",
      "Requirement already satisfied: ptyprocess>=0.5 in ./.env/lib/python3.11/site-packages (from pexpect>4.3->ipython>=7.8.0->black[jupyter]>=21->jupyter_black) (0.7.0)\r\n",
      "Requirement already satisfied: executing>=1.2.0 in ./.env/lib/python3.11/site-packages (from stack-data->ipython>=7.8.0->black[jupyter]>=21->jupyter_black) (2.1.0)\r\n",
      "Requirement already satisfied: asttokens>=2.1.0 in ./.env/lib/python3.11/site-packages (from stack-data->ipython>=7.8.0->black[jupyter]>=21->jupyter_black) (2.4.1)\r\n",
      "Requirement already satisfied: pure-eval in ./.env/lib/python3.11/site-packages (from stack-data->ipython>=7.8.0->black[jupyter]>=21->jupyter_black) (0.2.3)\r\n"
     ]
    }
   ],
   "execution_count": 2
  },
  {
   "cell_type": "code",
   "metadata": {
    "nbgrader": {
     "grade": false,
     "grade_id": "header",
     "locked": true,
     "schema_version": 3,
     "solution": false,
     "task": false
    },
    "tags": [],
    "id": "BXUow5NkbtEE",
    "colab": {
     "base_uri": "https://localhost:8080/"
    },
    "executionInfo": {
     "status": "ok",
     "timestamp": 1730553425876,
     "user_tz": -60,
     "elapsed": 192,
     "user": {
      "displayName": "Lukas Woodtli",
      "userId": "13380313969799608541"
     }
    },
    "outputId": "998ea3d1-98d1-4edc-ec1c-85a3d862d173",
    "ExecuteTime": {
     "end_time": "2024-11-23T08:44:43.737501Z",
     "start_time": "2024-11-23T08:44:43.519066Z"
    }
   },
   "source": [
    "%load_ext autoreload\n",
    "%autoreload 2\n",
    "\n",
    "from IPython.core.interactiveshell import InteractiveShell\n",
    "\n",
    "InteractiveShell.ast_node_interactivity = \"all\"\n",
    "\n",
    "import jupyter_black\n",
    "\n",
    "jupyter_black.load()\n"
   ],
   "outputs": [],
   "execution_count": 3
  },
  {
   "cell_type": "markdown",
   "metadata": {
    "nbgrader": {
     "grade": false,
     "grade_id": "title",
     "locked": true,
     "schema_version": 3,
     "solution": false,
     "task": false
    },
    "tags": [],
    "id": "r3VcF0qJbtEE"
   },
   "source": [
    "# Image Classification - A Practical Approach\n",
    "\n",
    "## Learning Goals\n",
    "\n",
    "- Learn how to model an image classification task\n",
    "- Learn how to systematically implement data prep, model architecture, training-loop, and evaluation\n",
    "- Learn how to check and verify the implementation\n",
    "- Learn how to incorporate boilerplate code from [torchvision](https://pytorch.org/vision/0.9/index.html) and  [PyTorch Lightning](https://lightning.ai/docs/pytorch/stable/)"
   ]
  },
  {
   "cell_type": "markdown",
   "metadata": {
    "nbgrader": {
     "grade": false,
     "grade_id": "cell-a9856bbf98ea570f",
     "locked": true,
     "schema_version": 3,
     "solution": false,
     "task": false
    },
    "id": "zxolOV5HbtEF"
   },
   "source": [
    "## Setup\n",
    "\n",
    "Let's define paths, install & load the necessary Python packages."
   ]
  },
  {
   "cell_type": "markdown",
   "metadata": {
    "id": "uxASmLiYbtEF"
   },
   "source": [
    "Mount your google drive to store data and results (if running the code in Google Colab)."
   ]
  },
  {
   "cell_type": "code",
   "metadata": {
    "id": "YF3dA-mmbtEF",
    "colab": {
     "base_uri": "https://localhost:8080/"
    },
    "executionInfo": {
     "status": "ok",
     "timestamp": 1730553428224,
     "user_tz": -60,
     "elapsed": 345,
     "user": {
      "displayName": "Lukas Woodtli",
      "userId": "13380313969799608541"
     }
    },
    "outputId": "31bb2aba-9a8e-48d1-b8bb-40d63c77726c",
    "ExecuteTime": {
     "end_time": "2024-11-23T08:44:45.360407Z",
     "start_time": "2024-11-23T08:44:45.344466Z"
    }
   },
   "source": [
    "try:\n",
    "    import google.colab\n",
    "\n",
    "    IN_COLAB = True\n",
    "except:\n",
    "    IN_COLAB = False\n",
    "\n",
    "print(f\"In colab: {IN_COLAB}\")"
   ],
   "outputs": [
    {
     "name": "stdout",
     "output_type": "stream",
     "text": [
      "In colab: False\n"
     ]
    }
   ],
   "execution_count": 4
  },
  {
   "cell_type": "code",
   "metadata": {
    "id": "j1VjQnq7btEG",
    "colab": {
     "base_uri": "https://localhost:8080/"
    },
    "executionInfo": {
     "status": "ok",
     "timestamp": 1730553445632,
     "user_tz": -60,
     "elapsed": 17212,
     "user": {
      "displayName": "Lukas Woodtli",
      "userId": "13380313969799608541"
     }
    },
    "outputId": "49d6010b-8964-4d74-c7b6-233c0a69c518",
    "ExecuteTime": {
     "end_time": "2024-11-23T08:44:45.535794Z",
     "start_time": "2024-11-23T08:44:45.527991Z"
    }
   },
   "source": [
    "if IN_COLAB:\n",
    "    from google.colab import drive\n",
    "\n",
    "    drive.mount(\"/content/drive\")"
   ],
   "outputs": [],
   "execution_count": 5
  },
  {
   "cell_type": "markdown",
   "metadata": {
    "id": "q9UTm8McbtEG"
   },
   "source": [
    "**Modify the following paths if necessary.**\n",
    "\n",
    "That is where your data will be stored."
   ]
  },
  {
   "cell_type": "code",
   "metadata": {
    "id": "d_zJkergbtEG",
    "ExecuteTime": {
     "end_time": "2024-11-23T08:44:46.348219Z",
     "start_time": "2024-11-23T08:44:46.339506Z"
    }
   },
   "source": [
    "from pathlib import Path\n",
    "import os\n",
    "\n",
    "if IN_COLAB:\n",
    "    pass  # TODO DATA_PATH = Path(\"/content/drive/MyDrive/cas-dl-module-compvis-part1\")\n",
    "else:\n",
    "    SCRIPT_DIR = Path(os.getcwd())\n",
    "    DATA_PATH = SCRIPT_DIR / \"data/data_set/binary_classification\""
   ],
   "outputs": [],
   "execution_count": 6
  },
  {
   "cell_type": "markdown",
   "metadata": {
    "id": "VZqVEPSobtEH"
   },
   "source": [
    "Install `dl_cv_lectures`"
   ]
  },
  {
   "cell_type": "code",
   "metadata": {
    "id": "pkOtUhbMbtEH",
    "colab": {
     "base_uri": "https://localhost:8080/"
    },
    "executionInfo": {
     "status": "ok",
     "timestamp": 1730553487276,
     "user_tz": -60,
     "elapsed": 37028,
     "user": {
      "displayName": "Lukas Woodtli",
      "userId": "13380313969799608541"
     }
    },
    "outputId": "f3f97be3-4852-452d-b4ca-f2e68d25ce63",
    "ExecuteTime": {
     "end_time": "2024-11-23T08:44:46.787497Z",
     "start_time": "2024-11-23T08:44:46.775495Z"
    }
   },
   "source": [
    "try:\n",
    "    import dl_cv_lectures\n",
    "\n",
    "    print(\"dl_cv_lectures installed, all good\")\n",
    "except ImportError as e:\n",
    "    import os\n",
    "\n",
    "    if Path(\"/workspace/code/src\").exists():\n",
    "        print(\"Installing from local repo\")\n",
    "        os.system(\"cd /workspace/code  && pip install -e .\")\n",
    "    else:\n",
    "        print(\"Installing from git repo\")\n",
    "        os.system(\n",
    "            \"pip install git+https://github.com/marco-willi/cas-dl-compvis-exercises-hs2024\"\n",
    "        )"
   ],
   "outputs": [
    {
     "name": "stdout",
     "output_type": "stream",
     "text": [
      "dl_cv_lectures installed, all good\n"
     ]
    }
   ],
   "execution_count": 7
  },
  {
   "cell_type": "markdown",
   "metadata": {
    "id": "QTWZMJvXbtEH"
   },
   "source": [
    "Load all packages"
   ]
  },
  {
   "cell_type": "code",
   "metadata": {
    "id": "vYDlZj27btEH",
    "ExecuteTime": {
     "end_time": "2024-11-23T08:44:51.995480Z",
     "start_time": "2024-11-23T08:44:47.796687Z"
    }
   },
   "source": [
    "import torch\n",
    "import torch.nn as nn\n",
    "import torch.nn.functional as F\n",
    "import torchinfo\n",
    "import torchshow as ts\n",
    "from lightning.pytorch.loggers import TensorBoardLogger\n",
    "from matplotlib import pyplot as plt\n",
    "from sklearn.metrics import ConfusionMatrixDisplay, confusion_matrix\n",
    "from torchvision import transforms\n",
    "from torchvision.transforms.v2 import functional as TF\n",
    "from torchvision.utils import make_grid\n",
    "\n",
    "import dl_cv_lectures"
   ],
   "outputs": [],
   "execution_count": 8
  },
  {
   "cell_type": "code",
   "metadata": {
    "id": "HTjbHdAvbtEI",
    "ExecuteTime": {
     "end_time": "2024-11-23T08:44:53.065957Z",
     "start_time": "2024-11-23T08:44:53.032935Z"
    }
   },
   "source": "DEBUG = False",
   "outputs": [],
   "execution_count": 9
  },
  {
   "cell_type": "markdown",
   "metadata": {
    "id": "dy1mtgD_btEJ"
   },
   "source": [
    "## 2) Overall Approach\n",
    "\n",
    "Inspired by [A Recipe for Training Neural Networks by Andrej Karpathy](https://karpathy.github.io/2019/04/25/recipe/)\n",
    "\n",
    "For your chosen dataset. Do the following:\n",
    "\n",
    "\n",
    "### 1) Data Preparation & Data Inspection\n",
    "\n",
    "- Download the data\n",
    "- Inspect the data formats\n",
    "- Build a `torch.utils.data.Dataset`\n",
    "    - define training, validation and test sets\n",
    "- Implement a `torch.utils.data.DataLoader'\n",
    "- Inspect the data:\n",
    "    - Look at samples\n",
    "    - Inspect the label distribution\n",
    "\n",
    "### 2) Baselines\n",
    "\n",
    "- Implement a small CNN\n",
    "- Learn input-independent baseline (provide only labels but random noise as input)\n",
    "- Overfitt CNN on one batch\n",
    "- Inspect pre-processing\n",
    "  \n",
    "### 3) (Over)fit\n",
    "- Build a large(er) architecture (pre-trained or self-implemented)\n",
    "- Train a high-performing model with respect to training set\n",
    "  \n",
    "### 4) Regularize\n",
    "- Is it beneficial to collect more data?\n",
    "- Data Augmentation\n",
    "- Early Stopping on Validation Set\n",
    "- Weight Decay\n",
    "\n",
    "### 5) Hyper-Parameter Tuning\n",
    "- Define HPs and parameterise architecture\n",
    "- do grid- or random search over HP grids\n",
    "\n",
    "### 6) Squeeze out the juice\n",
    "-  Ensembling\n",
    "-  Longer training\n",
    "-  Special techniques: AdamW optimizer, fancy data augmentation, label smoothing, stochastic depth"
   ]
  },
  {
   "cell_type": "markdown",
   "metadata": {
    "id": "whNaa8S8btEJ"
   },
   "source": [
    "## Step 1) - Data Preparation & Data Inspection\n",
    "\n",
    "**_This step is critical. I like to spend copious amount of time (measured in units of hours) scanning through thousands of examples, understanding their distribution and looking for patterns. (A Karpathy)_**\n",
    "\n",
    "- Download the data\n",
    "- Inspect the data formats and file organization\n",
    "- Remove corrupt data\n",
    "- Build a [torch.utils.data.Dataset](https://pytorch.org/docs/stable/data.html#torch.utils.data.Dataset)\n",
    "    - define training, validation and test sets\n",
    "- Implement a [torch.utils.data.DataLoader](https://pytorch.org/docs/stable/data.html#torch.utils.data.DataLoader)\n",
    "- Inspect the data:\n",
    "    - Look at samples\n",
    "    - Inspect the label distribution\n",
    "\n",
    "\n",
    "Important information about how to define a dataset can be found here: [https://pytorch.org/docs/stable/data.htm](https://pytorch.org/docs/stable/data.htm)"
   ]
  },
  {
   "cell_type": "markdown",
   "metadata": {
    "id": "8NejK9MYbtEJ"
   },
   "source": [
    "### Download the Data\n",
    "\n",
    "Specify the dataset that you want to use and download it (unless you are using your own - in that case place it in your data directory).\n",
    "\n",
    "Download and extraction may take a few minutes."
   ]
  },
  {
   "metadata": {
    "ExecuteTime": {
     "end_time": "2024-11-23T08:44:55.668744Z",
     "start_time": "2024-11-23T08:44:55.635364Z"
    }
   },
   "cell_type": "code",
   "source": "DATA_BASE_DIR = SCRIPT_DIR / \"data\"",
   "outputs": [],
   "execution_count": 10
  },
  {
   "metadata": {
    "ExecuteTime": {
     "end_time": "2024-11-23T08:44:56.462132Z",
     "start_time": "2024-11-23T08:44:56.421481Z"
    }
   },
   "cell_type": "code",
   "source": [
    "from robust_downloader import download\n",
    "\n",
    "\n",
    "def download_and_unpack(url, filename, data_dir):\n",
    "    data_download_dir = Path(data_dir) / \"download\"\n",
    "    data_download_dir.mkdir(parents=True, exist_ok=True)\n",
    "    data_archive = data_download_dir / filename\n",
    "    if not data_archive.exists():\n",
    "        download(url, data_download_dir, filename)\n",
    "    data_set_dir = data_dir / \"data_set\"\n",
    "    if not data_set_dir.exists():\n",
    "        data_set_dir.mkdir(parents=True, exist_ok=True)\n",
    "        print(data_archive)\n",
    "        with zipfile.ZipFile(data_archive, \"r\") as zipf:\n",
    "            zipf.extractall(data_set_dir)\n",
    "    return data_set_dir\n",
    "\n",
    "\n",
    "url = \"https://mostwiedzy.pl/en/open-research-data/lego-bricks-for-training-classification-network,202309140842198941751-0/download/\"\n",
    "filename = \"file 05 - dataset.zip\"\n",
    "data_set_dir = download_and_unpack(url, filename, DATA_BASE_DIR)"
   ],
   "outputs": [],
   "execution_count": 11
  },
  {
   "cell_type": "code",
   "metadata": {
    "id": "v1gtgY7pbtEJ",
    "colab": {
     "base_uri": "https://localhost:8080/"
    },
    "executionInfo": {
     "status": "ok",
     "timestamp": 1730549272420,
     "user_tz": -60,
     "elapsed": 330,
     "user": {
      "displayName": "Lukas Woodtli",
      "userId": "13380313969799608541"
     }
    },
    "outputId": "4ea134bd-f9fc-4f0c-c252-929420c1e70a",
    "ExecuteTime": {
     "end_time": "2024-11-23T08:44:57.045862Z",
     "start_time": "2024-11-23T08:44:57.000415Z"
    }
   },
   "source": [
    "from pathlib import Path\n",
    "from typing import Callable\n",
    "\n",
    "import lightning as L\n",
    "import numpy as np\n",
    "from PIL import Image\n",
    "from torch.utils.data import DataLoader, Dataset\n",
    "\n",
    "\n",
    "class LegoBricksData(L.LightningDataModule):\n",
    "    \"\"\"Create a data module to manage train, validation and test sets.\"\"\"\n",
    "\n",
    "    def __init__(\n",
    "        self,\n",
    "        train_observations: list[dict],\n",
    "        val_observations: list[dict],\n",
    "        test_observations: list[dict],\n",
    "        classes: list[str],\n",
    "        train_transform: Callable,\n",
    "        test_transform: Callable,\n",
    "        batch_size: int = 32,\n",
    "        num_workers: int = 4,\n",
    "    ):\n",
    "        super().__init__()\n",
    "        self.classes = classes\n",
    "        self.batch_size = batch_size\n",
    "        self.num_workers = num_workers\n",
    "\n",
    "        self.train_observations = train_observations\n",
    "        self.val_observations = val_observations\n",
    "        self.test_observations = test_observations\n",
    "\n",
    "        self.train_transform = train_transform\n",
    "        self.test_transform = test_transform\n",
    "\n",
    "    def setup(self, stage=None):\n",
    "        \"\"\"Split the dataset into train, validation, and test sets.\"\"\"\n",
    "        if stage == \"fit\" or stage is None:\n",
    "            self.ds_train = LegoBricks(\n",
    "                self.train_observations,\n",
    "                transform=self.train_transform,\n",
    "                classes=self.classes,\n",
    "            )\n",
    "            self.ds_val = LegoBricks(\n",
    "                self.val_observations,\n",
    "                transform=self.test_transform,\n",
    "                classes=self.classes,\n",
    "            )\n",
    "\n",
    "        if stage == \"test\" or stage is None:\n",
    "            self.ds_test = LegoBricks(\n",
    "                self.test_observations,\n",
    "                transform=self.test_transform,\n",
    "                classes=self.classes,\n",
    "            )\n",
    "\n",
    "    def train_dataloader(self):\n",
    "        \"\"\"Return the train data loader.\"\"\"\n",
    "        return DataLoader(\n",
    "            self.ds_train,\n",
    "            batch_size=self.batch_size,\n",
    "            shuffle=True,\n",
    "            num_workers=self.num_workers,\n",
    "        )\n",
    "\n",
    "    def val_dataloader(self):\n",
    "        \"\"\"Return the validation data loader.\"\"\"\n",
    "        return DataLoader(\n",
    "            self.ds_val,\n",
    "            batch_size=self.batch_size,\n",
    "            shuffle=False,\n",
    "            num_workers=self.num_workers,\n",
    "        )\n",
    "\n",
    "    def test_dataloader(self):\n",
    "        \"\"\"Return the test data loader.\"\"\"\n",
    "        return DataLoader(\n",
    "            self.ds_test,\n",
    "            batch_size=self.batch_size,\n",
    "            shuffle=False,\n",
    "            num_workers=self.num_workers,\n",
    "        )"
   ],
   "outputs": [],
   "execution_count": 12
  },
  {
   "cell_type": "markdown",
   "metadata": {
    "id": "1BMBTJh3btEJ"
   },
   "source": [
    "## Inspect Data Format & Organization\n",
    "\n",
    "We need to figure out how the data is organized. Particularly, how the data is labelled, to correctly define it with a [torch.utils.data.Dataset](https://pytorch.org/docs/stable/data.html#torch.utils.data.Dataset).\n",
    "\n",
    "First you should look at the data / folder structure of the downloaded data.\n",
    "\n",
    "(this example command only works on Linux)\n"
   ]
  },
  {
   "cell_type": "code",
   "metadata": {
    "id": "QDOJK0_NbtEJ",
    "colab": {
     "base_uri": "https://localhost:8080/"
    },
    "executionInfo": {
     "status": "ok",
     "timestamp": 1730549290630,
     "user_tz": -60,
     "elapsed": 17255,
     "user": {
      "displayName": "Lukas Woodtli",
      "userId": "13380313969799608541"
     }
    },
    "outputId": "860bdbe5-48b7-4874-fd99-7e0e3dcdedbb",
    "ExecuteTime": {
     "end_time": "2024-11-23T08:44:58.424245Z",
     "start_time": "2024-11-23T08:44:58.246242Z"
    }
   },
   "source": "!find \"{DATA_PATH}\" -type d",
   "outputs": [
    {
     "name": "stdout",
     "output_type": "stream",
     "text": [
      "/Users/lukaswoodtli/Meine Ablage/fhnw_computer_vision_mit_deep_learning_projekt/data/data_set/binary_classification\r\n",
      "/Users/lukaswoodtli/Meine Ablage/fhnw_computer_vision_mit_deep_learning_projekt/data/data_set/binary_classification/2412b\r\n",
      "/Users/lukaswoodtli/Meine Ablage/fhnw_computer_vision_mit_deep_learning_projekt/data/data_set/binary_classification/2357\r\n"
     ]
    }
   ],
   "execution_count": 13
  },
  {
   "cell_type": "markdown",
   "metadata": {
    "id": "m87xGUeAbtEK"
   },
   "source": [
    "It seems the data is neatly organized in class-specific folders."
   ]
  },
  {
   "cell_type": "code",
   "metadata": {
    "id": "Xx-m7iGjbtEK",
    "colab": {
     "base_uri": "https://localhost:8080/"
    },
    "executionInfo": {
     "status": "ok",
     "timestamp": 1730549294727,
     "user_tz": -60,
     "elapsed": 1076,
     "user": {
      "displayName": "Lukas Woodtli",
      "userId": "13380313969799608541"
     }
    },
    "outputId": "895333d6-1e06-4e41-a88a-1f5d28c41958",
    "ExecuteTime": {
     "end_time": "2024-11-23T08:44:59.605922Z",
     "start_time": "2024-11-23T08:44:59.437269Z"
    }
   },
   "source": "!find \"{DATA_PATH}/2357\" -type f | head -n 10",
   "outputs": [
    {
     "name": "stdout",
     "output_type": "stream",
     "text": [
      "/Users/lukaswoodtli/Meine Ablage/fhnw_computer_vision_mit_deep_learning_projekt/data/data_set/binary_classification/2357/c3_7_IfZU_original-Bs5_1620809597653.jpg\r\n",
      "/Users/lukaswoodtli/Meine Ablage/fhnw_computer_vision_mit_deep_learning_projekt/data/data_set/binary_classification/2357/c4_8_HKP7_original-Bs5_1620809623802.jpg\r\n",
      "/Users/lukaswoodtli/Meine Ablage/fhnw_computer_vision_mit_deep_learning_projekt/data/data_set/binary_classification/2357/c0_5_n3fc_original-Bs5_1620809560833.jpg\r\n",
      "/Users/lukaswoodtli/Meine Ablage/fhnw_computer_vision_mit_deep_learning_projekt/data/data_set/binary_classification/2357/c2_7_IfZU_original-Bs5_1620809597653.jpg\r\n",
      "/Users/lukaswoodtli/Meine Ablage/fhnw_computer_vision_mit_deep_learning_projekt/data/data_set/binary_classification/2357/c1_5_n3fc_original-Bs5_1620809560833.jpg\r\n",
      "/Users/lukaswoodtli/Meine Ablage/fhnw_computer_vision_mit_deep_learning_projekt/data/data_set/binary_classification/2357/c5_8_HKP7_original-Bs5_1620809623802.jpg\r\n",
      "/Users/lukaswoodtli/Meine Ablage/fhnw_computer_vision_mit_deep_learning_projekt/data/data_set/binary_classification/2357/c2_5_n3fc_original-Bs5_1620809560833.jpg\r\n",
      "/Users/lukaswoodtli/Meine Ablage/fhnw_computer_vision_mit_deep_learning_projekt/data/data_set/binary_classification/2357/c6_8_HKP7_original-Bs5_1620809623802.jpg\r\n",
      "/Users/lukaswoodtli/Meine Ablage/fhnw_computer_vision_mit_deep_learning_projekt/data/data_set/binary_classification/2357/c1_7_IfZU_original-Bs5_1620809597653.jpg\r\n",
      "/Users/lukaswoodtli/Meine Ablage/fhnw_computer_vision_mit_deep_learning_projekt/data/data_set/binary_classification/2357/c1_2_DoLC_original-Bs5_1620809567384.jpg\r\n"
     ]
    }
   ],
   "execution_count": 14
  },
  {
   "cell_type": "markdown",
   "metadata": {
    "id": "dMcfEy__btEK"
   },
   "source": [
    "Seems like we have \".jpg\" files. This needs to be verified further.\n",
    "\n",
    "**Note**: You might want to check for corrupt files since they disrupt further processes. You could read each file using `PIL.Image.open` to find any errors."
   ]
  },
  {
   "cell_type": "markdown",
   "metadata": {
    "id": "ZaQbOftMbtEK"
   },
   "source": [
    "We use a function to provide an inventory of all the files, along with their labels.\n",
    "\n",
    "Change the path accordingly if you used a different dataset."
   ]
  },
  {
   "cell_type": "code",
   "metadata": {
    "id": "qHgyvQ7BbtEK",
    "ExecuteTime": {
     "end_time": "2024-11-23T08:45:03.811374Z",
     "start_time": "2024-11-23T08:45:03.770748Z"
    }
   },
   "source": "from utils import ImageFolder",
   "outputs": [],
   "execution_count": 15
  },
  {
   "cell_type": "markdown",
   "metadata": {
    "id": "iG7w-NzjbtEL"
   },
   "source": ""
  },
  {
   "cell_type": "markdown",
   "metadata": {
    "id": "8KM1HBrlbtEL"
   },
   "source": [
    "Now we create the dataset object and inspect the first observation."
   ]
  },
  {
   "cell_type": "code",
   "metadata": {
    "id": "IBhqn-sTbtEL",
    "colab": {
     "base_uri": "https://localhost:8080/",
     "height": 465
    },
    "executionInfo": {
     "status": "ok",
     "timestamp": 1730549476497,
     "user_tz": -60,
     "elapsed": 2663,
     "user": {
      "displayName": "Lukas Woodtli",
      "userId": "13380313969799608541"
     }
    },
    "outputId": "dcb4a3dc-a95b-4f20-acea-de53e7a5e42d",
    "ExecuteTime": {
     "end_time": "2024-11-23T08:45:05.984145Z",
     "start_time": "2024-11-23T08:45:05.765850Z"
    }
   },
   "source": [
    "ds = ImageFolder(DATA_PATH)\n",
    "ds.classes\n",
    "ds[200]\n",
    "ds[200][\"image\"]"
   ],
   "outputs": [
    {
     "name": "stdout",
     "output_type": "stream",
     "text": [
      "Found the following classes: ['Brick 2 x 2 Corner', 'Tile Special 1 x 2 Grille with Bottom Groove'], in total 429 images\n"
     ]
    },
    {
     "data": {
      "text/plain": [
       "['Brick 2 x 2 Corner', 'Tile Special 1 x 2 Grille with Bottom Groove']"
      ]
     },
     "execution_count": 16,
     "metadata": {},
     "output_type": "execute_result"
    },
    {
     "data": {
      "text/plain": [
       "{'image': <PIL.JpegImagePlugin.JpegImageFile image mode=RGB size=415x447>,\n",
       " 'label': 0}"
      ]
     },
     "execution_count": 16,
     "metadata": {},
     "output_type": "execute_result"
    },
    {
     "data": {
      "text/plain": [
       "<PIL.JpegImagePlugin.JpegImageFile image mode=RGB size=415x447>"
      ],
      "image/png": "[encoded data removed]",
      "image/jpeg": "[encoded data removed]"
     },
     "execution_count": 16,
     "metadata": {},
     "output_type": "execute_result"
    }
   ],
   "execution_count": 16
  },
  {
   "cell_type": "markdown",
   "metadata": {
    "id": "C2tE8juYbtEL"
   },
   "source": [
    "## Create Train / Test Splits\n",
    "\n",
    "We create train (validation) and test splits early, before we look at the data in more detail. This avoids any biases and insights that we might clean from the test set. We should set this part of the data aside and look at it only for a final model evaluation.\n",
    "\n",
    "We use a function from `sklearn.model_selection`.\n",
    "\n",
    "We balance the labels by using the `stratify` option.\n",
    "\n",
    "**Note**: Some datasets may have a pre-defined split. If so, the images might be in separate test/train folders. If that is the case simply create different dataset objects."
   ]
  },
  {
   "cell_type": "code",
   "metadata": {
    "id": "W_Ci4kfGbtEL",
    "colab": {
     "base_uri": "https://localhost:8080/"
    },
    "executionInfo": {
     "status": "ok",
     "timestamp": 1730549694536,
     "user_tz": -60,
     "elapsed": 11937,
     "user": {
      "displayName": "Lukas Woodtli",
      "userId": "13380313969799608541"
     }
    },
    "outputId": "3248962d-6dae-4a83-db6c-8daeca111471",
    "ExecuteTime": {
     "end_time": "2024-11-23T08:45:08.090283Z",
     "start_time": "2024-11-23T08:45:07.733433Z"
    }
   },
   "source": [
    "from sklearn.model_selection import train_test_split\n",
    "\n",
    "all_ids = [i for i in range(0, len(ds.observations))]\n",
    "all_labels = [x[\"label\"] for x in ds.observations]\n",
    "\n",
    "train_ids, test_ids = train_test_split(\n",
    "    all_ids,\n",
    "    stratify=all_labels,\n",
    "    test_size=0.2,\n",
    "    random_state=123,\n",
    ")\n",
    "\n",
    "train_ids, val_ids = train_test_split(\n",
    "    train_ids,\n",
    "    stratify=[all_labels[i] for i in train_ids],\n",
    "    test_size=0.1,\n",
    "    random_state=123,\n",
    ")\n",
    "\n",
    "\n",
    "ds_train = ImageFolder.from_subset(ds, train_ids)\n",
    "ds_val = ImageFolder.from_subset(ds, val_ids)\n",
    "ds_test = ImageFolder.from_subset(ds, test_ids)"
   ],
   "outputs": [
    {
     "name": "stdout",
     "output_type": "stream",
     "text": [
      "Found the following classes: ['Brick 2 x 2 Corner', 'Tile Special 1 x 2 Grille with Bottom Groove'], in total 429 images\n",
      "Created a subset with 308 images from the original dataset of 429 images\n",
      "Found the following classes: ['Brick 2 x 2 Corner', 'Tile Special 1 x 2 Grille with Bottom Groove'], in total 429 images\n",
      "Created a subset with 35 images from the original dataset of 429 images\n",
      "Found the following classes: ['Brick 2 x 2 Corner', 'Tile Special 1 x 2 Grille with Bottom Groove'], in total 429 images\n",
      "Created a subset with 86 images from the original dataset of 429 images\n"
     ]
    }
   ],
   "execution_count": 17
  },
  {
   "cell_type": "markdown",
   "metadata": {
    "nbgrader": {
     "grade": false,
     "grade_id": "cell-974feaab57d71ef1",
     "locked": true,
     "schema_version": 3,
     "solution": false,
     "task": false
    },
    "id": "K3IfGuSobtEM"
   },
   "source": ""
  },
  {
   "cell_type": "markdown",
   "metadata": {
    "id": "fflioZ-mbtEM"
   },
   "source": [
    "Now we test the `Dataset` object by getting and visualising a sample."
   ]
  },
  {
   "cell_type": "code",
   "metadata": {
    "id": "0lHuUBd8btEM",
    "colab": {
     "base_uri": "https://localhost:8080/",
     "height": 487
    },
    "executionInfo": {
     "status": "ok",
     "timestamp": 1730549716085,
     "user_tz": -60,
     "elapsed": 1764,
     "user": {
      "displayName": "Lukas Woodtli",
      "userId": "13380313969799608541"
     }
    },
    "outputId": "1c24a9a1-3ea2-45e6-89da-6c03c898ea3c",
    "ExecuteTime": {
     "end_time": "2024-11-23T08:45:10.396232Z",
     "start_time": "2024-11-23T08:45:10.257805Z"
    }
   },
   "source": [
    "observation = ds_train[0]\n",
    "ts.show(observation[\"image\"])"
   ],
   "outputs": [
    {
     "data": {
      "text/plain": [
       "<Figure size 640x480 with 1 Axes>"
      ],
      "image/png": "[encoded data removed]"
     },
     "metadata": {},
     "output_type": "display_data"
    }
   ],
   "execution_count": 18
  },
  {
   "cell_type": "markdown",
   "metadata": {
    "id": "JavbfBmDbtEM"
   },
   "source": [
    "## Create Data Loaders"
   ]
  },
  {
   "cell_type": "markdown",
   "metadata": {
    "id": "Z538rA3WbtEM"
   },
   "source": [
    "For model training we need to batch examples. Thats why we need to define a [torch.utils.data.DataLoader](https://pytorch.org/docs/stable/data.html#torch.utils.data.DataLoader).\n",
    "\n",
    "Let's see how our data is being batched, after all each observation is a dictionary."
   ]
  },
  {
   "cell_type": "code",
   "metadata": {
    "id": "ohUM3S6DbtEN",
    "colab": {
     "base_uri": "https://localhost:8080/"
    },
    "executionInfo": {
     "status": "ok",
     "timestamp": 1730551061731,
     "user_tz": -60,
     "elapsed": 6110,
     "user": {
      "displayName": "Lukas Woodtli",
      "userId": "13380313969799608541"
     }
    },
    "outputId": "f620c427-0edd-4fd0-9eec-cbf43ab9f015",
    "ExecuteTime": {
     "end_time": "2024-11-23T08:45:12.277227Z",
     "start_time": "2024-11-23T08:45:11.946599Z"
    }
   },
   "source": [
    "tr_train = transforms.Compose(\n",
    "    [transforms.v2.RGB(), transforms.Resize((64, 64)), transforms.ToTensor()]\n",
    ")\n",
    "\n",
    "ds_train = ImageFolder.from_subset(ds, train_ids, transform=tr_train)\n",
    "ds_val = ImageFolder.from_subset(ds, val_ids, transform=tr_train)\n",
    "ds_test = ImageFolder.from_subset(ds, test_ids, transform=tr_train)\n",
    "\n",
    "dl_train = DataLoader(ds_train, batch_size=1, shuffle=True)"
   ],
   "outputs": [
    {
     "name": "stdout",
     "output_type": "stream",
     "text": [
      "Found the following classes: ['Brick 2 x 2 Corner', 'Tile Special 1 x 2 Grille with Bottom Groove'], in total 429 images\n",
      "Created a subset with 308 images from the original dataset of 429 images\n",
      "Found the following classes: ['Brick 2 x 2 Corner', 'Tile Special 1 x 2 Grille with Bottom Groove'], in total 429 images\n",
      "Created a subset with 35 images from the original dataset of 429 images\n",
      "Found the following classes: ['Brick 2 x 2 Corner', 'Tile Special 1 x 2 Grille with Bottom Groove'], in total 429 images\n",
      "Created a subset with 86 images from the original dataset of 429 images\n"
     ]
    }
   ],
   "execution_count": 19
  },
  {
   "cell_type": "markdown",
   "metadata": {
    "nbgrader": {
     "grade": false,
     "grade_id": "cell-8385aee74294e0fc",
     "locked": true,
     "schema_version": 3,
     "solution": false,
     "task": false
    },
    "id": "6Mo6EEPKbtEN"
   },
   "source": [
    "**Question**: How does the DataLoader batch the data?"
   ]
  },
  {
   "cell_type": "markdown",
   "metadata": {
    "id": "c7heCAAYbtEN"
   },
   "source": [
    "## Inspect the Data\n",
    "\n",
    "Now you can use the `ImageDataset` or `DataLoader` objects to insepct the dataset.\n",
    "\n",
    "**Note**: We use only the training dataset to inspect the data.\n",
    "\n",
    "- **Initial Step**: Avoid touching neural net code initially; focus on inspecting the data thoroughly.\n",
    "- **Time Investment**: Spend hours scanning thousands of examples to understand their distribution and look for patterns.\n",
    "- **Identify Issues**: Look for duplicate examples, corrupted images/labels, data imbalances, and biases.\n",
    "- **Classify Process**: Pay attention to how you classify the data to inform the architecture exploration.\n",
    "- **Feature Analysis**: Determine if local features or global context is needed.\n",
    "- **Variation Analysis**: Assess the variation in the data, identify spurious variations for preprocessing.\n",
    "- **Spatial Consideration**: Evaluate if spatial position matters or if averaging it out is beneficial.\n",
    "- **Detail and Downsampling**: Consider the importance of detail and the feasibility of downsampling images.\n",
    "- **Label Noise**: Assess the noise level in the labels.\n",
    "- **Understand Predictions**: Use network (mis)predictions to understand inconsistencies and data issues (at a later stage!).\n",
    "- **Quantitative Analysis**: Write simple code to search, filter, and sort data by various attributes.\n",
    "- **Visualize Distributions**: Visualize distributions and outliers to uncover bugs in data quality or preprocessing.\n",
    "\n",
    "For now do at least the following:\n",
    "- what is the class distribution?\n",
    "- how difficult do you think is the problem?\n",
    "- are there any obvious issues with the data?\n",
    "- do the labels seem accurate?"
   ]
  },
  {
   "cell_type": "code",
   "metadata": {
    "nbgrader": {
     "grade": true,
     "grade_id": "cell-556797ba20290ab9",
     "locked": false,
     "points": 0,
     "schema_version": 3,
     "solution": true,
     "task": false
    },
    "id": "qkyPVaCubtEN",
    "colab": {
     "base_uri": "https://localhost:8080/"
    },
    "executionInfo": {
     "status": "ok",
     "timestamp": 1730550070955,
     "user_tz": -60,
     "elapsed": 263,
     "user": {
      "displayName": "Lukas Woodtli",
      "userId": "13380313969799608541"
     }
    },
    "outputId": "7fb0b527-ed0c-4b59-da9e-124ff50d6837",
    "ExecuteTime": {
     "end_time": "2024-11-23T08:45:13.941774Z",
     "start_time": "2024-11-23T08:45:13.907989Z"
    }
   },
   "source": [
    "np.unique([obs[\"label\"] for obs in ds_train.observations], return_counts=True)"
   ],
   "outputs": [
    {
     "data": {
      "text/plain": [
       "(array(['Brick 2 x 2 Corner',\n",
       "        'Tile Special 1 x 2 Grille with Bottom Groove'], dtype='<U44'),\n",
       " array([216,  92]))"
      ]
     },
     "execution_count": 20,
     "metadata": {},
     "output_type": "execute_result"
    }
   ],
   "execution_count": 20
  },
  {
   "cell_type": "code",
   "source": [
    "labels = set([obs[\"label\"] for obs in ds_train.observations])"
   ],
   "metadata": {
    "id": "xmQS7tVD3mAv",
    "ExecuteTime": {
     "end_time": "2024-11-23T08:45:14.466905Z",
     "start_time": "2024-11-23T08:45:14.436743Z"
    }
   },
   "outputs": [],
   "execution_count": 21
  },
  {
   "cell_type": "code",
   "source": [
    "l = [l[\"label\"] for l in ds_train.observations]\n",
    "plt.hist(l)"
   ],
   "metadata": {
    "colab": {
     "base_uri": "https://localhost:8080/",
     "height": 166
    },
    "id": "kSS6WREe08UP",
    "executionInfo": {
     "status": "error",
     "timestamp": 1730927806548,
     "user_tz": -60,
     "elapsed": 345,
     "user": {
      "displayName": "Lukas Woodtli",
      "userId": "13380313969799608541"
     }
    },
    "outputId": "95cb2e5c-d482-4cc0-f0e0-ed85a3873a4f",
    "ExecuteTime": {
     "end_time": "2024-11-23T08:45:15.029078Z",
     "start_time": "2024-11-23T08:45:14.950646Z"
    }
   },
   "outputs": [
    {
     "data": {
      "text/plain": [
       "(array([216.,   0.,   0.,   0.,   0.,   0.,   0.,   0.,   0.,  92.]),\n",
       " array([0. , 0.1, 0.2, 0.3, 0.4, 0.5, 0.6, 0.7, 0.8, 0.9, 1. ]),\n",
       " <BarContainer object of 10 artists>)"
      ]
     },
     "execution_count": 22,
     "metadata": {},
     "output_type": "execute_result"
    },
    {
     "data": {
      "text/plain": [
       "<Figure size 640x480 with 1 Axes>"
      ],
      "image/png": "[encoded data removed]"
     },
     "metadata": {},
     "output_type": "display_data"
    }
   ],
   "execution_count": 22
  },
  {
   "cell_type": "code",
   "source": [
    "img = next(iter(dl_train))[\"image\"]\n",
    "img.shape\n",
    "ts.show(img)"
   ],
   "metadata": {
    "colab": {
     "base_uri": "https://localhost:8080/",
     "height": 505
    },
    "id": "yBY9eaju8kXG",
    "executionInfo": {
     "status": "ok",
     "timestamp": 1730552282614,
     "user_tz": -60,
     "elapsed": 1709,
     "user": {
      "displayName": "Lukas Woodtli",
      "userId": "13380313969799608541"
     }
    },
    "outputId": "d0b77914-0017-411c-9ad2-498ae1c7e704",
    "ExecuteTime": {
     "end_time": "2024-11-23T08:45:15.675818Z",
     "start_time": "2024-11-23T08:45:15.597730Z"
    }
   },
   "outputs": [
    {
     "data": {
      "text/plain": [
       "torch.Size([1, 3, 64, 64])"
      ]
     },
     "execution_count": 23,
     "metadata": {},
     "output_type": "execute_result"
    },
    {
     "data": {
      "text/plain": [
       "<Figure size 640x480 with 1 Axes>"
      ],
      "image/png": "[encoded data removed]"
     },
     "metadata": {},
     "output_type": "display_data"
    }
   ],
   "execution_count": 23
  },
  {
   "cell_type": "markdown",
   "metadata": {
    "id": "7a5SC1pWbtEO"
   },
   "source": [
    "## Step 2 - Implement Baselines\n",
    "\n",
    "In this step we want to implement a training pipeline and evaluate simple baselines to get a feeling for the problem and to test and verify if the pipeline works.\n",
    "\n",
    "**Reproducibility**\n",
    "\n",
    "- Fix random seed: Always use a fixed random seed to ensure consistent outcomes in repeated runs.\n",
    "\n",
    "**Simplification and Initialization**\n",
    "\n",
    "- Simplify: Disable unnecessary features like data augmentation initially.\n",
    "- Verify loss at initialization: Ensure loss starts at the expected value.\n",
    "\n",
    "**Baselines and Metrics**\n",
    "\n",
    "- Human baseline: Compare model metrics to human-interpretable metrics (e.g., accuracy).\n",
    "- Input-independent baseline: Train a baseline model with zeroed inputs and compare it to a variant with normal data. There should be a clear difference!\n",
    "\n",
    "**Overfitting and Visualization**\n",
    "\n",
    "- Overfit one batch: Overfit a single batch to verify the model can reach the minimum loss.\n",
    "- Verify decreasing training loss: Ensure training loss decreases when model capacity increases.\n",
    "- Visualize before the net: Visualize data immediately before feeding it to the network to catch preprocessing issues.\n",
    "- Visualize prediction dynamics: Track model predictions on a fixed test batch during training to understand training progression.\n",
    "\n",
    "**Evaluation**\n",
    "\n",
    "- Add significant digits to your eval: Evaluate on the entire test set for accuracy.\n",
    "- Visualize: Visualize model inputs and outputs to ensure correctness.\n",
    "\n",
    "**Additional Tips**\n",
    "\n",
    "- Verify simplifications: Simplify initial setup by turning off data augmentation and complex features to reduce bugs.\n",
    "\n",
    "We will address some of the steps above. Feel free to do more!"
   ]
  },
  {
   "cell_type": "markdown",
   "metadata": {
    "id": "1u-W6aD_btEO"
   },
   "source": [
    "### Reproducibility\n",
    "\n",
    "The `lightning`package provides a function to set random seeds of different modules:"
   ]
  },
  {
   "cell_type": "code",
   "metadata": {
    "id": "0Qw5Fo3QbtEO",
    "colab": {
     "base_uri": "https://localhost:8080/"
    },
    "executionInfo": {
     "status": "ok",
     "timestamp": 1730552397304,
     "user_tz": -60,
     "elapsed": 234,
     "user": {
      "displayName": "Lukas Woodtli",
      "userId": "13380313969799608541"
     }
    },
    "outputId": "647fe1a7-0180-46bf-8e27-494ec4317b79",
    "ExecuteTime": {
     "end_time": "2024-11-23T08:45:17.563837Z",
     "start_time": "2024-11-23T08:45:17.529107Z"
    }
   },
   "source": [
    "import lightning as L\n",
    "\n",
    "L.seed_everything(123)"
   ],
   "outputs": [
    {
     "name": "stderr",
     "output_type": "stream",
     "text": [
      "INFO: Seed set to 123\n",
      "INFO:lightning.fabric.utilities.seed:Seed set to 123\n"
     ]
    },
    {
     "data": {
      "text/plain": [
       "123"
      ]
     },
     "execution_count": 24,
     "metadata": {},
     "output_type": "execute_result"
    }
   ],
   "execution_count": 24
  },
  {
   "cell_type": "markdown",
   "metadata": {
    "id": "aKY0tBXvbtEO"
   },
   "source": [
    "### Simple DataLoader\n",
    "\n",
    "Implement a simple dataloader without fancy transformations. To specify transformations, use [torchvision.transforms](https://pytorch.org/vision/0.9/transforms.html)."
   ]
  },
  {
   "cell_type": "code",
   "metadata": {
    "id": "pcagmG_8btEO",
    "colab": {
     "base_uri": "https://localhost:8080/"
    },
    "executionInfo": {
     "status": "ok",
     "timestamp": 1730552402761,
     "user_tz": -60,
     "elapsed": 1162,
     "user": {
      "displayName": "Lukas Woodtli",
      "userId": "13380313969799608541"
     }
    },
    "outputId": "34f4264d-297d-49c0-a3de-091b86f29a63",
    "ExecuteTime": {
     "end_time": "2024-11-23T08:45:18.896283Z",
     "start_time": "2024-11-23T08:45:18.758958Z"
    }
   },
   "source": [
    "# Define a simple transformation\n",
    "tr_train = transforms.Compose(\n",
    "    [\n",
    "        transforms.v2.RGB(),\n",
    "        transforms.Resize((32, 32)),\n",
    "        transforms.ToTensor(),\n",
    "    ]\n",
    ")\n",
    "\n",
    "ds_train = ImageFolder.from_subset(ds, train_ids, transform=tr_train)\n",
    "dl_train = DataLoader(ds_train, batch_size=16, shuffle=True, num_workers=3)"
   ],
   "outputs": [
    {
     "name": "stdout",
     "output_type": "stream",
     "text": [
      "Found the following classes: ['Brick 2 x 2 Corner', 'Tile Special 1 x 2 Grille with Bottom Groove'], in total 429 images\n",
      "Created a subset with 308 images from the original dataset of 429 images\n"
     ]
    }
   ],
   "execution_count": 25
  },
  {
   "cell_type": "code",
   "metadata": {
    "id": "c-_55UIfbtEO",
    "colab": {
     "base_uri": "https://localhost:8080/",
     "height": 524
    },
    "executionInfo": {
     "status": "ok",
     "timestamp": 1730552412572,
     "user_tz": -60,
     "elapsed": 2155,
     "user": {
      "displayName": "Lukas Woodtli",
      "userId": "13380313969799608541"
     }
    },
    "outputId": "9fc05d2e-d4dc-434e-b518-8382d56bb927",
    "ExecuteTime": {
     "end_time": "2024-11-23T08:45:36.754509Z",
     "start_time": "2024-11-23T08:45:19.609020Z"
    }
   },
   "source": [
    "obs = next(iter(dl_train))\n",
    "ts.show(obs[\"image\"])\n",
    "obs[\"image\"].max()\n",
    "obs[\"image\"].min()"
   ],
   "outputs": [
    {
     "data": {
      "text/plain": [
       "tensor(1.)"
      ]
     },
     "execution_count": 26,
     "metadata": {},
     "output_type": "execute_result"
    },
    {
     "data": {
      "text/plain": [
       "tensor(0.0353)"
      ]
     },
     "execution_count": 26,
     "metadata": {},
     "output_type": "execute_result"
    },
    {
     "data": {
      "text/plain": [
       "<Figure size 640x480 with 16 Axes>"
      ],
      "image/png": "[encoded data removed]"
     },
     "metadata": {},
     "output_type": "display_data"
    }
   ],
   "execution_count": 26
  },
  {
   "metadata": {},
   "cell_type": "markdown",
   "source": ""
  },
  {
   "cell_type": "markdown",
   "metadata": {
    "id": "bei8phpVbtEO"
   },
   "source": [
    "### Simple Model\n",
    "\n",
    "Start with a simple model that is (most likely) correct and should be able to learn something (quickly).\n",
    "\n",
    "For example you could implement the following architecture.\n",
    "\n",
    "- Input Shape: (3, **height**, **width**)\n",
    "- Convolution: 16 Filters, Kernel-Size 5x5\n",
    "- Pooling: Stride 2, Kernel-Size 2\n",
    "- Convolution: 32 Filter, Kernel-Size 5x5\n",
    "- Global Average Pooling\n",
    "- FC: 2 neurons (**number of classes**)\n",
    "\n",
    "Use `ReLU` activation after each convolution.\n",
    "\n",
    "Define a class which inherits from `torch.nn.Module`.\n"
   ]
  },
  {
   "cell_type": "code",
   "metadata": {
    "nbgrader": {
     "grade": true,
     "grade_id": "cell-282219b1ddf201ab",
     "locked": false,
     "points": 0,
     "schema_version": 3,
     "solution": true,
     "task": false
    },
    "id": "-YczstEObtEO",
    "colab": {
     "base_uri": "https://localhost:8080/"
    },
    "executionInfo": {
     "status": "ok",
     "timestamp": 1730552421195,
     "user_tz": -60,
     "elapsed": 462,
     "user": {
      "displayName": "Lukas Woodtli",
      "userId": "13380313969799608541"
     }
    },
    "outputId": "399e4a2f-0333-44bd-c908-3a165c0c4684",
    "ExecuteTime": {
     "end_time": "2024-11-23T08:45:36.834382Z",
     "start_time": "2024-11-23T08:45:36.779672Z"
    }
   },
   "source": [
    "class SmallCNN(nn.Module):\n",
    "    def __init__(self):\n",
    "        super().__init__()\n",
    "        self.conv1 = nn.Conv2d(3, 16, (5, 5))\n",
    "        self.pool = nn.MaxPool2d(kernel_size=2, stride=2)\n",
    "        self.conv2 = nn.Conv2d(16, 32, 5)\n",
    "        self.global_avg_pool = nn.AdaptiveAvgPool2d((1, 1))\n",
    "        self.fc = nn.Linear(32, 2)  # adapt to the number of classes here\n",
    "\n",
    "    def forward(self, x):\n",
    "        x = self.pool(F.relu(self.conv1(x)))\n",
    "        x = self.pool(F.relu(self.conv2(x)))\n",
    "        x = self.global_avg_pool(x)\n",
    "        x = torch.flatten(x, 1)  # flatten all dimensions except batch\n",
    "        x = self.fc(x)\n",
    "        return x\n",
    "\n",
    "\n",
    "net = SmallCNN()\n",
    "\n",
    "print(net)\n",
    "print(torchinfo.summary(net, input_size=(1, 3, 32, 32)))"
   ],
   "outputs": [
    {
     "name": "stdout",
     "output_type": "stream",
     "text": [
      "SmallCNN(\n",
      "  (conv1): Conv2d(3, 16, kernel_size=(5, 5), stride=(1, 1))\n",
      "  (pool): MaxPool2d(kernel_size=2, stride=2, padding=0, dilation=1, ceil_mode=False)\n",
      "  (conv2): Conv2d(16, 32, kernel_size=(5, 5), stride=(1, 1))\n",
      "  (global_avg_pool): AdaptiveAvgPool2d(output_size=(1, 1))\n",
      "  (fc): Linear(in_features=32, out_features=2, bias=True)\n",
      ")\n",
      "==========================================================================================\n",
      "Layer (type:depth-idx)                   Output Shape              Param #\n",
      "==========================================================================================\n",
      "SmallCNN                                 [1, 2]                    --\n",
      "├─Conv2d: 1-1                            [1, 16, 28, 28]           1,216\n",
      "├─MaxPool2d: 1-2                         [1, 16, 14, 14]           --\n",
      "├─Conv2d: 1-3                            [1, 32, 10, 10]           12,832\n",
      "├─MaxPool2d: 1-4                         [1, 32, 5, 5]             --\n",
      "├─AdaptiveAvgPool2d: 1-5                 [1, 32, 1, 1]             --\n",
      "├─Linear: 1-6                            [1, 2]                    66\n",
      "==========================================================================================\n",
      "Total params: 14,114\n",
      "Trainable params: 14,114\n",
      "Non-trainable params: 0\n",
      "Total mult-adds (Units.MEGABYTES): 2.24\n",
      "==========================================================================================\n",
      "Input size (MB): 0.01\n",
      "Forward/backward pass size (MB): 0.13\n",
      "Params size (MB): 0.06\n",
      "Estimated Total Size (MB): 0.19\n",
      "==========================================================================================\n"
     ]
    }
   ],
   "execution_count": 27
  },
  {
   "cell_type": "markdown",
   "metadata": {
    "id": "ijlOHTOIbtEO"
   },
   "source": [
    "### Define a training Loop\n",
    "\n",
    "We use Lightning which greatly simplifys implementing boilerplate code such as  training loops.\n",
    "\n",
    "Tutorial here: https://lightning.ai/pages/community/tutorial/step-by-step-walk-through-of-pytorch-lightning/\n",
    "\n",
    "We also include additional metrics from [torchmetrics](https://lightning.ai/docs/torchmetrics/stable/) to easily log and calculate accuracy.  Adapt `task=\"binary\"` if necessary!\n",
    "\n",
    "**Note**: Calculating the metrics incorrectly is a common source of errors. Make sure to correctly aggregate metrics across an epoch."
   ]
  },
  {
   "cell_type": "code",
   "metadata": {
    "id": "qBkCa4WVbtEO",
    "ExecuteTime": {
     "end_time": "2024-11-23T08:45:36.900516Z",
     "start_time": "2024-11-23T08:45:36.862471Z"
    }
   },
   "source": [
    "import torchmetrics\n",
    "\n",
    "\n",
    "class Classifier(L.LightningModule):\n",
    "    def __init__(self, model):\n",
    "        super().__init__()\n",
    "        self.model = model\n",
    "        self.loss_fn = nn.CrossEntropyLoss()\n",
    "        self.train_accuracy = torchmetrics.Accuracy(\n",
    "            task=\"binary\"\n",
    "        )  # Adjust task if you have more than two classes\n",
    "        self.train_loss = torchmetrics.MeanMetric()\n",
    "\n",
    "    def forward(self, x):\n",
    "        return self.model(x)\n",
    "\n",
    "    def training_step(self, batch, batch_idx):\n",
    "        x, y = batch[\"image\"], batch[\"label\"]\n",
    "        logits = self(x)\n",
    "        loss = self.loss_fn(logits, y)\n",
    "        preds = torch.argmax(logits, dim=1)\n",
    "\n",
    "        # Update accuracy metric\n",
    "        self.train_accuracy(preds, y)\n",
    "        self.train_loss(loss)\n",
    "\n",
    "        self.log(\"train/acc_step\", self.train_accuracy, prog_bar=True)\n",
    "        self.log(\"train/loss_step\", self.train_loss, prog_bar=True)\n",
    "\n",
    "        return loss\n",
    "\n",
    "    def on_train_epoch_end(self):\n",
    "        # log epoch metric\n",
    "        self.log(\"train/acc_epoch\", self.train_accuracy)\n",
    "        self.log(\"train/loss_epoch\", self.train_loss)\n",
    "\n",
    "    def configure_optimizers(self):\n",
    "        return torch.optim.Adam(self.parameters(), lr=0.001)"
   ],
   "outputs": [],
   "execution_count": 28
  },
  {
   "cell_type": "markdown",
   "metadata": {
    "id": "iWSFLQTobtEP"
   },
   "source": [
    "Change the following parameters accoring to your hardware if you need. As you can see, this simplifies hardware switches greatly!\n",
    "\n",
    "We want to perform a functional check only. Train the model only for 10 steps."
   ]
  },
  {
   "cell_type": "markdown",
   "metadata": {
    "id": "3J0if6dAbtEP"
   },
   "source": [
    "**Question**: What is the loss at initialization / after 10 steps? Does the value make sense?"
   ]
  },
  {
   "cell_type": "markdown",
   "metadata": {
    "id": "6JhKzvWibtEP"
   },
   "source": [
    "Now we train the model for longer to get a sense of the performance (increase the number of steps `max_steps` the model is training for)."
   ]
  },
  {
   "metadata": {
    "ExecuteTime": {
     "end_time": "2024-11-23T09:51:51.945012Z",
     "start_time": "2024-11-23T09:51:51.739074Z"
    }
   },
   "cell_type": "code",
   "source": "#!pip install mlflow",
   "outputs": [],
   "execution_count": 29
  },
  {
   "cell_type": "code",
   "metadata": {
    "id": "DofvsXA_btEP",
    "colab": {
     "base_uri": "https://localhost:8080/",
     "height": 802,
     "referenced_widgets": [
      "ce63a37d63744b188908ce6fdabc8cc2",
      "2428499367c64c378d02e3b3f76643ee",
      "6a3ccb927e56445cb3d5d6ef765be335",
      "2b2d97a69be240e0adae7f7020ae506d",
      "8be382ebe6484a92b0dce8b59eb16c04",
      "cbacb0eaa04444d9bccd3c4aa4fb007b",
      "cd9ad0578a324174a29bb0e90182f4f4",
      "ce4d176204b84fb29dc47a9040bc53cb",
      "697a983f5d03436a86a8a7867966e84f",
      "9988f9f8dfea4c408f09ee10ec552b8a",
      "55e98e0d3df843349f2da434655ebf7f"
     ]
    },
    "executionInfo": {
     "status": "ok",
     "timestamp": 1730553063547,
     "user_tz": -60,
     "elapsed": 16637,
     "user": {
      "displayName": "Lukas Woodtli",
      "userId": "13380313969799608541"
     }
    },
    "outputId": "474f4b9e-4870-4f2d-acb9-1b15b4d68c13",
    "ExecuteTime": {
     "end_time": "2024-11-23T09:52:41.369759Z",
     "start_time": "2024-11-23T09:51:52.512899Z"
    }
   },
   "source": [
    "from lightning.pytorch.loggers import MLFlowLogger\n",
    "\n",
    "L.seed_everything(123)\n",
    "\n",
    "max_epochs = 3\n",
    "max_steps = 500\n",
    "\n",
    "dev_run = False\n",
    "\n",
    "# mlf_logger = MLFlowLogger(experiment_name=\"lightning_logs\")\n",
    "tb_logger = TensorBoardLogger(SCRIPT_DIR.joinpath(\"lightning_logs\"), name=\"A1\")\n",
    "\n",
    "trainer = L.Trainer(\n",
    "    devices=\"auto\",\n",
    "    accelerator=\"auto\",\n",
    "    precision=\"32\",\n",
    "    max_epochs=max_epochs,\n",
    "    max_steps=max_steps,\n",
    "    fast_dev_run=dev_run,\n",
    "    enable_checkpointing=False,\n",
    "    logger=tb_logger,\n",
    "    log_every_n_steps=1,\n",
    "    default_root_dir=SCRIPT_DIR.joinpath(\"lightning_logs\"),\n",
    ")\n",
    "\n",
    "net = SmallCNN()\n",
    "model = Classifier(net)\n",
    "trainer.fit(model, train_dataloaders=dl_train)"
   ],
   "outputs": [
    {
     "name": "stderr",
     "output_type": "stream",
     "text": [
      "INFO: Seed set to 123\n",
      "INFO:lightning.fabric.utilities.seed:Seed set to 123\n"
     ]
    },
    {
     "data": {
      "text/plain": [
       "123"
      ]
     },
     "execution_count": 30,
     "metadata": {},
     "output_type": "execute_result"
    },
    {
     "name": "stderr",
     "output_type": "stream",
     "text": [
      "INFO: GPU available: True (mps), used: True\n",
      "INFO:lightning.pytorch.utilities.rank_zero:GPU available: True (mps), used: True\n",
      "INFO: TPU available: False, using: 0 TPU cores\n",
      "INFO:lightning.pytorch.utilities.rank_zero:TPU available: False, using: 0 TPU cores\n",
      "INFO: HPU available: False, using: 0 HPUs\n",
      "INFO:lightning.pytorch.utilities.rank_zero:HPU available: False, using: 0 HPUs\n",
      "INFO: \n",
      "  | Name           | Type             | Params | Mode \n",
      "------------------------------------------------------------\n",
      "0 | model          | SmallCNN         | 14.1 K | train\n",
      "1 | loss_fn        | CrossEntropyLoss | 0      | train\n",
      "2 | train_accuracy | BinaryAccuracy   | 0      | train\n",
      "3 | train_loss     | MeanMetric       | 0      | train\n",
      "------------------------------------------------------------\n",
      "14.1 K    Trainable params\n",
      "0         Non-trainable params\n",
      "14.1 K    Total params\n",
      "0.056     Total estimated model params size (MB)\n",
      "9         Modules in train mode\n",
      "0         Modules in eval mode\n",
      "INFO:lightning.pytorch.callbacks.model_summary:\n",
      "  | Name           | Type             | Params | Mode \n",
      "------------------------------------------------------------\n",
      "0 | model          | SmallCNN         | 14.1 K | train\n",
      "1 | loss_fn        | CrossEntropyLoss | 0      | train\n",
      "2 | train_accuracy | BinaryAccuracy   | 0      | train\n",
      "3 | train_loss     | MeanMetric       | 0      | train\n",
      "------------------------------------------------------------\n",
      "14.1 K    Trainable params\n",
      "0         Non-trainable params\n",
      "14.1 K    Total params\n",
      "0.056     Total estimated model params size (MB)\n",
      "9         Modules in train mode\n",
      "0         Modules in eval mode\n",
      "/Users/lukaswoodtli/Meine Ablage/fhnw_computer_vision_mit_deep_learning_projekt/.env/lib/python3.11/site-packages/lightning/pytorch/trainer/connectors/data_connector.py:419: Consider setting `persistent_workers=True` in 'train_dataloader' to speed up the dataloader worker initialization.\n"
     ]
    },
    {
     "data": {
      "text/plain": [
       "Training: |          | 0/? [00:00<?, ?it/s]"
      ],
      "application/vnd.jupyter.widget-view+json": {
       "version_major": 2,
       "version_minor": 0,
       "model_id": "a054a4a4a34545f18b1bf7be0ac191a8"
      }
     },
     "metadata": {},
     "output_type": "display_data"
    },
    {
     "name": "stderr",
     "output_type": "stream",
     "text": [
      "INFO: `Trainer.fit` stopped: `max_epochs=3` reached.\n",
      "INFO:lightning.pytorch.utilities.rank_zero:`Trainer.fit` stopped: `max_epochs=3` reached.\n"
     ]
    }
   ],
   "execution_count": 30
  },
  {
   "cell_type": "code",
   "metadata": {
    "id": "KUE9b95EbtEP",
    "ExecuteTime": {
     "end_time": "2024-11-23T09:53:42.479454Z",
     "start_time": "2024-11-23T09:53:42.440253Z"
    }
   },
   "source": "trainer.logged_metrics",
   "outputs": [
    {
     "data": {
      "text/plain": [
       "{'train/acc_step': tensor(0.7500),\n",
       " 'train/loss_step': tensor(0.3107),\n",
       " 'train/acc_epoch': tensor(0.7143),\n",
       " 'train/loss_epoch': tensor(0.5023)}"
      ]
     },
     "execution_count": 31,
     "metadata": {},
     "output_type": "execute_result"
    }
   ],
   "execution_count": 31
  },
  {
   "metadata": {
    "ExecuteTime": {
     "end_time": "2024-11-23T11:37:38.113218Z",
     "start_time": "2024-11-23T11:37:36.920838Z"
    }
   },
   "cell_type": "code",
   "source": [
    "logdir = SCRIPT_DIR / \"lightning_logs\"\n",
    "logdir = f\"'{logdir}'\"\n",
    "%reload_ext tensorboard\n",
    "\n",
    "\n",
    "print(f\"Log dir: {logdir}\\nserver on: http://127.0.0.1:6006\")\n",
    "%tensorboard --logdir={logdir} --host 127.0.0.1 --port=6006"
   ],
   "outputs": [
    {
     "name": "stdout",
     "output_type": "stream",
     "text": [
      "Log dir: '/Users/lukaswoodtli/Meine Ablage/fhnw_computer_vision_mit_deep_learning_projekt/lightning_logs'\n",
      "server on: http://127.0.0.1:6006\n"
     ]
    },
    {
     "data": {
      "text/plain": [
       "<IPython.core.display.HTML object>"
      ],
      "text/html": [
       "\n",
       "      <iframe id=\"tensorboard-frame-44867db30d67b366\" width=\"100%\" height=\"800\" frameborder=\"0\">\n",
       "      </iframe>\n",
       "      <script>\n",
       "        (function() {\n",
       "          const frame = document.getElementById(\"tensorboard-frame-44867db30d67b366\");\n",
       "          const url = new URL(\"/\", window.location);\n",
       "          const port = 6006;\n",
       "          if (port) {\n",
       "            url.port = port;\n",
       "          }\n",
       "          frame.src = url;\n",
       "        })();\n",
       "      </script>\n",
       "    "
      ]
     },
     "metadata": {},
     "output_type": "display_data"
    }
   ],
   "execution_count": 54
  },
  {
   "metadata": {
    "ExecuteTime": {
     "end_time": "2024-11-23T09:53:44.567797Z",
     "start_time": "2024-11-23T09:53:44.533716Z"
    }
   },
   "cell_type": "code",
   "source": "#!kill 3058",
   "outputs": [],
   "execution_count": 33
  },
  {
   "cell_type": "markdown",
   "metadata": {
    "id": "565CJEJZbtEP"
   },
   "source": [
    "**Question**: What is your conclusion? Does learning take place?"
   ]
  },
  {
   "cell_type": "markdown",
   "metadata": {
    "id": "1T2Ce25cbtEQ"
   },
   "source": [
    "## Learn Input independent Model\n",
    "\n",
    "\n",
    "Modify the `Dataset` class such that random images, e.g. white noise, is returned. The label remains unchanged. Then train a model."
   ]
  },
  {
   "cell_type": "markdown",
   "metadata": {
    "nbgrader": {
     "grade": false,
     "grade_id": "cell-a1689e4300aaf490",
     "locked": true,
     "schema_version": 3,
     "solution": false,
     "task": false
    },
    "id": "P1ISIabJbtEQ"
   },
   "source": [
    "**Question**: What kind of loss do you expect for random image data?"
   ]
  },
  {
   "cell_type": "code",
   "metadata": {
    "id": "xHOlvxyQbtEQ",
    "colab": {
     "base_uri": "https://localhost:8080/"
    },
    "executionInfo": {
     "status": "ok",
     "timestamp": 1730553325924,
     "user_tz": -60,
     "elapsed": 1466,
     "user": {
      "displayName": "Lukas Woodtli",
      "userId": "13380313969799608541"
     }
    },
    "outputId": "ef57b666-0b2e-43ab-fc62-fb35589c68e9",
    "ExecuteTime": {
     "end_time": "2024-11-23T09:53:47.626274Z",
     "start_time": "2024-11-23T09:53:47.477460Z"
    }
   },
   "source": [
    "from utils import ImageFolderRandom\n",
    "\n",
    "# Create the dataset and dataloader\n",
    "ds_train_random = ImageFolderRandom.from_subset(ds, train_ids, transform=tr_train)\n",
    "\n",
    "# ds_train_random = ImageFolderRandom(ds_train)\n",
    "\n",
    "dl_train_random = DataLoader(\n",
    "    ds_train_random, batch_size=64, shuffle=True, num_workers=5\n",
    ")"
   ],
   "outputs": [
    {
     "name": "stdout",
     "output_type": "stream",
     "text": [
      "Found the following classes: ['Brick 2 x 2 Corner', 'Tile Special 1 x 2 Grille with Bottom Groove'], in total 429 images\n",
      "Created a subset with 308 images from the original dataset of 429 images\n"
     ]
    }
   ],
   "execution_count": 34
  },
  {
   "cell_type": "markdown",
   "metadata": {
    "id": "E9iTO_dbbtEQ"
   },
   "source": [
    "Verify your work!"
   ]
  },
  {
   "cell_type": "code",
   "metadata": {
    "id": "2srqP8LybtEQ",
    "colab": {
     "base_uri": "https://localhost:8080/",
     "height": 355
    },
    "executionInfo": {
     "status": "error",
     "timestamp": 1730553401538,
     "user_tz": -60,
     "elapsed": 66097,
     "user": {
      "displayName": "Lukas Woodtli",
      "userId": "13380313969799608541"
     }
    },
    "outputId": "c4c04bd5-322c-46d6-bacf-f2e5428a14ea",
    "ExecuteTime": {
     "end_time": "2024-11-23T09:53:58.012729Z",
     "start_time": "2024-11-23T09:53:50.792345Z"
    }
   },
   "source": [
    "obs_random = next(iter(dl_train_random))\n",
    "ts.show(obs_random[\"image\"])"
   ],
   "outputs": [
    {
     "data": {
      "text/plain": [
       "<Figure size 640x480 with 64 Axes>"
      ],
      "image/png": "[encoded data removed]"
     },
     "metadata": {},
     "output_type": "display_data"
    }
   ],
   "execution_count": 35
  },
  {
   "cell_type": "markdown",
   "metadata": {
    "id": "_-Wzld-1btEQ"
   },
   "source": [
    "Now train your model."
   ]
  },
  {
   "cell_type": "code",
   "metadata": {
    "id": "wFKqgYHXbtEQ",
    "ExecuteTime": {
     "end_time": "2024-11-23T10:02:17.016391Z",
     "start_time": "2024-11-23T10:01:49.633525Z"
    }
   },
   "source": [
    "L.seed_everything(123)\n",
    "\n",
    "tb_logger = TensorBoardLogger(SCRIPT_DIR.joinpath(\"lightning_logs\"), name=\"B1\")\n",
    "trainer = L.Trainer(\n",
    "    devices=\"auto\",\n",
    "    accelerator=\"auto\",\n",
    "    precision=\"32\",\n",
    "    fast_dev_run=False,\n",
    "    max_steps=2,\n",
    "    enable_checkpointing=False,\n",
    "    logger=tb_logger,\n",
    "    log_every_n_steps=1,\n",
    "    default_root_dir=SCRIPT_DIR.joinpath(\"lightning_logs\"),\n",
    ")\n",
    "\n",
    "net = SmallCNN()\n",
    "model = Classifier(net)\n",
    "trainer.fit(model, train_dataloaders=dl_train_random)"
   ],
   "outputs": [
    {
     "name": "stderr",
     "output_type": "stream",
     "text": [
      "INFO: Seed set to 123\n",
      "INFO:lightning.fabric.utilities.seed:Seed set to 123\n"
     ]
    },
    {
     "data": {
      "text/plain": [
       "123"
      ]
     },
     "execution_count": 37,
     "metadata": {},
     "output_type": "execute_result"
    },
    {
     "name": "stderr",
     "output_type": "stream",
     "text": [
      "INFO: GPU available: True (mps), used: True\n",
      "INFO:lightning.pytorch.utilities.rank_zero:GPU available: True (mps), used: True\n",
      "INFO: TPU available: False, using: 0 TPU cores\n",
      "INFO:lightning.pytorch.utilities.rank_zero:TPU available: False, using: 0 TPU cores\n",
      "INFO: HPU available: False, using: 0 HPUs\n",
      "INFO:lightning.pytorch.utilities.rank_zero:HPU available: False, using: 0 HPUs\n",
      "INFO: \n",
      "  | Name           | Type             | Params | Mode \n",
      "------------------------------------------------------------\n",
      "0 | model          | SmallCNN         | 14.1 K | train\n",
      "1 | loss_fn        | CrossEntropyLoss | 0      | train\n",
      "2 | train_accuracy | BinaryAccuracy   | 0      | train\n",
      "3 | train_loss     | MeanMetric       | 0      | train\n",
      "------------------------------------------------------------\n",
      "14.1 K    Trainable params\n",
      "0         Non-trainable params\n",
      "14.1 K    Total params\n",
      "0.056     Total estimated model params size (MB)\n",
      "9         Modules in train mode\n",
      "0         Modules in eval mode\n",
      "INFO:lightning.pytorch.callbacks.model_summary:\n",
      "  | Name           | Type             | Params | Mode \n",
      "------------------------------------------------------------\n",
      "0 | model          | SmallCNN         | 14.1 K | train\n",
      "1 | loss_fn        | CrossEntropyLoss | 0      | train\n",
      "2 | train_accuracy | BinaryAccuracy   | 0      | train\n",
      "3 | train_loss     | MeanMetric       | 0      | train\n",
      "------------------------------------------------------------\n",
      "14.1 K    Trainable params\n",
      "0         Non-trainable params\n",
      "14.1 K    Total params\n",
      "0.056     Total estimated model params size (MB)\n",
      "9         Modules in train mode\n",
      "0         Modules in eval mode\n",
      "/Users/lukaswoodtli/Meine Ablage/fhnw_computer_vision_mit_deep_learning_projekt/.env/lib/python3.11/site-packages/lightning/pytorch/trainer/connectors/data_connector.py:419: Consider setting `persistent_workers=True` in 'train_dataloader' to speed up the dataloader worker initialization.\n"
     ]
    },
    {
     "data": {
      "text/plain": [
       "Training: |          | 0/? [00:00<?, ?it/s]"
      ],
      "application/vnd.jupyter.widget-view+json": {
       "version_major": 2,
       "version_minor": 0,
       "model_id": "96a2d78f180444e5a9581224b4edd279"
      }
     },
     "metadata": {},
     "output_type": "display_data"
    },
    {
     "name": "stderr",
     "output_type": "stream",
     "text": [
      "INFO: `Trainer.fit` stopped: `max_steps=2` reached.\n",
      "INFO:lightning.pytorch.utilities.rank_zero:`Trainer.fit` stopped: `max_steps=2` reached.\n"
     ]
    }
   ],
   "execution_count": 37
  },
  {
   "cell_type": "code",
   "metadata": {
    "id": "JgfwxnTNbtEQ",
    "ExecuteTime": {
     "end_time": "2024-11-23T11:23:22.186062Z",
     "start_time": "2024-11-23T11:23:22.010416Z"
    }
   },
   "source": [
    "print(f\"Metrics:  {trainer.logged_metrics}\")"
   ],
   "outputs": [
    {
     "name": "stdout",
     "output_type": "stream",
     "text": [
      "Metrics:  {'train/acc_step': tensor(0.7344), 'train/loss_step': tensor(0.6514), 'train/acc_epoch': tensor(0.7031), 'train/loss_epoch': tensor(0.6635)}\n"
     ]
    }
   ],
   "execution_count": 38
  },
  {
   "cell_type": "markdown",
   "metadata": {
    "id": "Nu_FwX84btEQ"
   },
   "source": [
    "### Overfit on one Batch of Data\n",
    "\n",
    "We train the model with only one batch. This means the model only ever sees the same `batch_size` number of images."
   ]
  },
  {
   "cell_type": "markdown",
   "metadata": {
    "nbgrader": {
     "grade": false,
     "grade_id": "cell-76e81732d77174f3",
     "locked": true,
     "schema_version": 3,
     "solution": false,
     "task": false
    },
    "id": "qVPmrH8abtEQ"
   },
   "source": [
    "**Question**: What do you expect?"
   ]
  },
  {
   "cell_type": "code",
   "metadata": {
    "id": "n0lt5nq3btER",
    "ExecuteTime": {
     "end_time": "2024-11-23T11:23:52.311700Z",
     "start_time": "2024-11-23T11:23:28.797529Z"
    }
   },
   "source": [
    "L.seed_everything(123)\n",
    "\n",
    "tb_logger = (TensorBoardLogger(SCRIPT_DIR.joinpath(\"lightning_logs\"), name=\"B1\"),)\n",
    "\n",
    "trainer = L.Trainer(\n",
    "    devices=\"auto\",\n",
    "    accelerator=\"auto\",\n",
    "    precision=\"32\",\n",
    "    fast_dev_run=False,\n",
    "    max_steps=100,\n",
    "    enable_checkpointing=False,\n",
    "    logger=tb_logger,\n",
    "    default_root_dir=DATA_PATH.joinpath(\"lightning_logs\"),\n",
    "    # this option limits the training set to one batch, disables shuffle\n",
    "    overfit_batches=1,\n",
    ")\n",
    "\n",
    "net = SmallCNN()\n",
    "model = Classifier(net)\n",
    "\n",
    "dl_train = DataLoader(ds_train, batch_size=16, shuffle=True, num_workers=5)\n",
    "trainer.fit(model, train_dataloaders=dl_train)"
   ],
   "outputs": [
    {
     "name": "stderr",
     "output_type": "stream",
     "text": [
      "INFO: Seed set to 123\n",
      "INFO:lightning.fabric.utilities.seed:Seed set to 123\n"
     ]
    },
    {
     "data": {
      "text/plain": [
       "123"
      ]
     },
     "execution_count": 39,
     "metadata": {},
     "output_type": "execute_result"
    },
    {
     "name": "stderr",
     "output_type": "stream",
     "text": [
      "INFO: GPU available: True (mps), used: True\n",
      "INFO:lightning.pytorch.utilities.rank_zero:GPU available: True (mps), used: True\n",
      "INFO: TPU available: False, using: 0 TPU cores\n",
      "INFO:lightning.pytorch.utilities.rank_zero:TPU available: False, using: 0 TPU cores\n",
      "INFO: HPU available: False, using: 0 HPUs\n",
      "INFO:lightning.pytorch.utilities.rank_zero:HPU available: False, using: 0 HPUs\n",
      "INFO: `Trainer(overfit_batches=1)` was configured so 1 batch will be used.\n",
      "INFO:lightning.pytorch.utilities.rank_zero:`Trainer(overfit_batches=1)` was configured so 1 batch will be used.\n",
      "INFO: \n",
      "  | Name           | Type             | Params | Mode \n",
      "------------------------------------------------------------\n",
      "0 | model          | SmallCNN         | 14.1 K | train\n",
      "1 | loss_fn        | CrossEntropyLoss | 0      | train\n",
      "2 | train_accuracy | BinaryAccuracy   | 0      | train\n",
      "3 | train_loss     | MeanMetric       | 0      | train\n",
      "------------------------------------------------------------\n",
      "14.1 K    Trainable params\n",
      "0         Non-trainable params\n",
      "14.1 K    Total params\n",
      "0.056     Total estimated model params size (MB)\n",
      "9         Modules in train mode\n",
      "0         Modules in eval mode\n",
      "INFO:lightning.pytorch.callbacks.model_summary:\n",
      "  | Name           | Type             | Params | Mode \n",
      "------------------------------------------------------------\n",
      "0 | model          | SmallCNN         | 14.1 K | train\n",
      "1 | loss_fn        | CrossEntropyLoss | 0      | train\n",
      "2 | train_accuracy | BinaryAccuracy   | 0      | train\n",
      "3 | train_loss     | MeanMetric       | 0      | train\n",
      "------------------------------------------------------------\n",
      "14.1 K    Trainable params\n",
      "0         Non-trainable params\n",
      "14.1 K    Total params\n",
      "0.056     Total estimated model params size (MB)\n",
      "9         Modules in train mode\n",
      "0         Modules in eval mode\n",
      "/Users/lukaswoodtli/Meine Ablage/fhnw_computer_vision_mit_deep_learning_projekt/.env/lib/python3.11/site-packages/lightning/pytorch/trainer/connectors/data_connector.py:251: You requested to overfit but enabled train dataloader shuffling. We are turning off the train dataloader shuffling for you.\n",
      "/Users/lukaswoodtli/Meine Ablage/fhnw_computer_vision_mit_deep_learning_projekt/.env/lib/python3.11/site-packages/lightning/pytorch/trainer/connectors/data_connector.py:419: Consider setting `persistent_workers=True` in 'train_dataloader' to speed up the dataloader worker initialization.\n",
      "/Users/lukaswoodtli/Meine Ablage/fhnw_computer_vision_mit_deep_learning_projekt/.env/lib/python3.11/site-packages/lightning/pytorch/loops/fit_loop.py:298: The number of training batches (1) is smaller than the logging interval Trainer(log_every_n_steps=50). Set a lower value for log_every_n_steps if you want to see logs for the training epoch.\n"
     ]
    },
    {
     "data": {
      "text/plain": [
       "Training: |          | 0/? [00:00<?, ?it/s]"
      ],
      "application/vnd.jupyter.widget-view+json": {
       "version_major": 2,
       "version_minor": 0,
       "model_id": "a81635966a5144acb296b6274972747a"
      }
     },
     "metadata": {},
     "output_type": "display_data"
    },
    {
     "name": "stderr",
     "output_type": "stream",
     "text": [
      "Exception ignored in: <function _MultiProcessingDataLoaderIter.__del__ at 0x112e41a80>\n",
      "Traceback (most recent call last):\n",
      "  File \"/Users/lukaswoodtli/Meine Ablage/fhnw_computer_vision_mit_deep_learning_projekt/.env/lib/python3.11/site-packages/torch/utils/data/dataloader.py\", line 1604, in __del__\n",
      "    self._shutdown_workers()\n",
      "  File \"/Users/lukaswoodtli/Meine Ablage/fhnw_computer_vision_mit_deep_learning_projekt/.env/lib/python3.11/site-packages/torch/utils/data/dataloader.py\", line 1568, in _shutdown_workers\n",
      "    w.join(timeout=_utils.MP_STATUS_CHECK_INTERVAL)\n",
      "  File \"/Library/Frameworks/Python.framework/Versions/3.11/lib/python3.11/multiprocessing/process.py\", line 149, in join\n",
      "    res = self._popen.wait(timeout)\n",
      "          ^^^^^^^^^^^^^^^^^^^^^^^^^\n",
      "  File \"/Library/Frameworks/Python.framework/Versions/3.11/lib/python3.11/multiprocessing/popen_fork.py\", line 40, in wait\n",
      "    if not wait([self.sentinel], timeout):\n",
      "           ^^^^^^^^^^^^^^^^^^^^^^^^^^^^^^\n",
      "  File \"/Library/Frameworks/Python.framework/Versions/3.11/lib/python3.11/multiprocessing/connection.py\", line 948, in wait\n",
      "    ready = selector.select(timeout)\n",
      "            ^^^^^^^^^^^^^^^^^^^^^^^^\n",
      "  File \"/Library/Frameworks/Python.framework/Versions/3.11/lib/python3.11/selectors.py\", line 415, in select\n",
      "    fd_event_list = self._selector.poll(timeout)\n",
      "                    ^^^^^^^^^^^^^^^^^^^^^^^^^^^^\n",
      "KeyboardInterrupt: \n",
      "Exception ignored in: <function _MultiProcessingDataLoaderIter.__del__ at 0x112e41a80>\n",
      "Traceback (most recent call last):\n",
      "  File \"/Users/lukaswoodtli/Meine Ablage/fhnw_computer_vision_mit_deep_learning_projekt/.env/lib/python3.11/site-packages/torch/utils/data/dataloader.py\", line 1604, in __del__\n",
      "    self._shutdown_workers()\n",
      "  File \"/Users/lukaswoodtli/Meine Ablage/fhnw_computer_vision_mit_deep_learning_projekt/.env/lib/python3.11/site-packages/torch/utils/data/dataloader.py\", line 1568, in _shutdown_workers\n",
      "    w.join(timeout=_utils.MP_STATUS_CHECK_INTERVAL)\n",
      "  File \"/Library/Frameworks/Python.framework/Versions/3.11/lib/python3.11/multiprocessing/process.py\", line 149, in join\n",
      "    res = self._popen.wait(timeout)\n",
      "          ^^^^^^^^^^^^^^^^^^^^^^^^^\n",
      "  File \"/Library/Frameworks/Python.framework/Versions/3.11/lib/python3.11/multiprocessing/popen_fork.py\", line 40, in wait\n",
      "    if not wait([self.sentinel], timeout):\n",
      "           ^^^^^^^^^^^^^^^^^^^^^^^^^^^^^^\n",
      "  File \"/Library/Frameworks/Python.framework/Versions/3.11/lib/python3.11/multiprocessing/connection.py\", line 948, in wait\n",
      "    ready = selector.select(timeout)\n",
      "            ^^^^^^^^^^^^^^^^^^^^^^^^\n",
      "  File \"/Library/Frameworks/Python.framework/Versions/3.11/lib/python3.11/selectors.py\", line 415, in select\n",
      "    fd_event_list = self._selector.poll(timeout)\n",
      "                    ^^^^^^^^^^^^^^^^^^^^^^^^^^^^\n",
      "KeyboardInterrupt: \n",
      "INFO: \n",
      "Detected KeyboardInterrupt, attempting graceful shutdown ...\n",
      "INFO:lightning.pytorch.utilities.rank_zero:\n",
      "Detected KeyboardInterrupt, attempting graceful shutdown ...\n"
     ]
    },
    {
     "ename": "NameError",
     "evalue": "name 'exit' is not defined",
     "output_type": "error",
     "traceback": [
      "\u001B[0;31m---------------------------------------------------------------------------\u001B[0m",
      "\u001B[0;31mKeyboardInterrupt\u001B[0m                         Traceback (most recent call last)",
      "File \u001B[0;32m~/Meine Ablage/fhnw_computer_vision_mit_deep_learning_projekt/.env/lib/python3.11/site-packages/lightning/pytorch/trainer/call.py:47\u001B[0m, in \u001B[0;36m_call_and_handle_interrupt\u001B[0;34m(trainer, trainer_fn, *args, **kwargs)\u001B[0m\n\u001B[1;32m     46\u001B[0m         \u001B[38;5;28;01mreturn\u001B[39;00m trainer\u001B[38;5;241m.\u001B[39mstrategy\u001B[38;5;241m.\u001B[39mlauncher\u001B[38;5;241m.\u001B[39mlaunch(trainer_fn, \u001B[38;5;241m*\u001B[39margs, trainer\u001B[38;5;241m=\u001B[39mtrainer, \u001B[38;5;241m*\u001B[39m\u001B[38;5;241m*\u001B[39mkwargs)\n\u001B[0;32m---> 47\u001B[0m     \u001B[38;5;28;01mreturn\u001B[39;00m \u001B[43mtrainer_fn\u001B[49m\u001B[43m(\u001B[49m\u001B[38;5;241;43m*\u001B[39;49m\u001B[43margs\u001B[49m\u001B[43m,\u001B[49m\u001B[43m \u001B[49m\u001B[38;5;241;43m*\u001B[39;49m\u001B[38;5;241;43m*\u001B[39;49m\u001B[43mkwargs\u001B[49m\u001B[43m)\u001B[49m\n\u001B[1;32m     49\u001B[0m \u001B[38;5;28;01mexcept\u001B[39;00m _TunerExitException:\n",
      "File \u001B[0;32m~/Meine Ablage/fhnw_computer_vision_mit_deep_learning_projekt/.env/lib/python3.11/site-packages/lightning/pytorch/trainer/trainer.py:574\u001B[0m, in \u001B[0;36mTrainer._fit_impl\u001B[0;34m(self, model, train_dataloaders, val_dataloaders, datamodule, ckpt_path)\u001B[0m\n\u001B[1;32m    568\u001B[0m ckpt_path \u001B[38;5;241m=\u001B[39m \u001B[38;5;28mself\u001B[39m\u001B[38;5;241m.\u001B[39m_checkpoint_connector\u001B[38;5;241m.\u001B[39m_select_ckpt_path(\n\u001B[1;32m    569\u001B[0m     \u001B[38;5;28mself\u001B[39m\u001B[38;5;241m.\u001B[39mstate\u001B[38;5;241m.\u001B[39mfn,\n\u001B[1;32m    570\u001B[0m     ckpt_path,\n\u001B[1;32m    571\u001B[0m     model_provided\u001B[38;5;241m=\u001B[39m\u001B[38;5;28;01mTrue\u001B[39;00m,\n\u001B[1;32m    572\u001B[0m     model_connected\u001B[38;5;241m=\u001B[39m\u001B[38;5;28mself\u001B[39m\u001B[38;5;241m.\u001B[39mlightning_module \u001B[38;5;129;01mis\u001B[39;00m \u001B[38;5;129;01mnot\u001B[39;00m \u001B[38;5;28;01mNone\u001B[39;00m,\n\u001B[1;32m    573\u001B[0m )\n\u001B[0;32m--> 574\u001B[0m \u001B[38;5;28;43mself\u001B[39;49m\u001B[38;5;241;43m.\u001B[39;49m\u001B[43m_run\u001B[49m\u001B[43m(\u001B[49m\u001B[43mmodel\u001B[49m\u001B[43m,\u001B[49m\u001B[43m \u001B[49m\u001B[43mckpt_path\u001B[49m\u001B[38;5;241;43m=\u001B[39;49m\u001B[43mckpt_path\u001B[49m\u001B[43m)\u001B[49m\n\u001B[1;32m    576\u001B[0m \u001B[38;5;28;01massert\u001B[39;00m \u001B[38;5;28mself\u001B[39m\u001B[38;5;241m.\u001B[39mstate\u001B[38;5;241m.\u001B[39mstopped\n",
      "File \u001B[0;32m~/Meine Ablage/fhnw_computer_vision_mit_deep_learning_projekt/.env/lib/python3.11/site-packages/lightning/pytorch/trainer/trainer.py:981\u001B[0m, in \u001B[0;36mTrainer._run\u001B[0;34m(self, model, ckpt_path)\u001B[0m\n\u001B[1;32m    978\u001B[0m \u001B[38;5;66;03m# ----------------------------\u001B[39;00m\n\u001B[1;32m    979\u001B[0m \u001B[38;5;66;03m# RUN THE TRAINER\u001B[39;00m\n\u001B[1;32m    980\u001B[0m \u001B[38;5;66;03m# ----------------------------\u001B[39;00m\n\u001B[0;32m--> 981\u001B[0m results \u001B[38;5;241m=\u001B[39m \u001B[38;5;28;43mself\u001B[39;49m\u001B[38;5;241;43m.\u001B[39;49m\u001B[43m_run_stage\u001B[49m\u001B[43m(\u001B[49m\u001B[43m)\u001B[49m\n\u001B[1;32m    983\u001B[0m \u001B[38;5;66;03m# ----------------------------\u001B[39;00m\n\u001B[1;32m    984\u001B[0m \u001B[38;5;66;03m# POST-Training CLEAN UP\u001B[39;00m\n\u001B[1;32m    985\u001B[0m \u001B[38;5;66;03m# ----------------------------\u001B[39;00m\n",
      "File \u001B[0;32m~/Meine Ablage/fhnw_computer_vision_mit_deep_learning_projekt/.env/lib/python3.11/site-packages/lightning/pytorch/trainer/trainer.py:1025\u001B[0m, in \u001B[0;36mTrainer._run_stage\u001B[0;34m(self)\u001B[0m\n\u001B[1;32m   1024\u001B[0m \u001B[38;5;28;01mwith\u001B[39;00m torch\u001B[38;5;241m.\u001B[39mautograd\u001B[38;5;241m.\u001B[39mset_detect_anomaly(\u001B[38;5;28mself\u001B[39m\u001B[38;5;241m.\u001B[39m_detect_anomaly):\n\u001B[0;32m-> 1025\u001B[0m     \u001B[38;5;28;43mself\u001B[39;49m\u001B[38;5;241;43m.\u001B[39;49m\u001B[43mfit_loop\u001B[49m\u001B[38;5;241;43m.\u001B[39;49m\u001B[43mrun\u001B[49m\u001B[43m(\u001B[49m\u001B[43m)\u001B[49m\n\u001B[1;32m   1026\u001B[0m \u001B[38;5;28;01mreturn\u001B[39;00m \u001B[38;5;28;01mNone\u001B[39;00m\n",
      "File \u001B[0;32m~/Meine Ablage/fhnw_computer_vision_mit_deep_learning_projekt/.env/lib/python3.11/site-packages/lightning/pytorch/loops/fit_loop.py:205\u001B[0m, in \u001B[0;36m_FitLoop.run\u001B[0;34m(self)\u001B[0m\n\u001B[1;32m    204\u001B[0m \u001B[38;5;28mself\u001B[39m\u001B[38;5;241m.\u001B[39mon_advance_start()\n\u001B[0;32m--> 205\u001B[0m \u001B[38;5;28;43mself\u001B[39;49m\u001B[38;5;241;43m.\u001B[39;49m\u001B[43madvance\u001B[49m\u001B[43m(\u001B[49m\u001B[43m)\u001B[49m\n\u001B[1;32m    206\u001B[0m \u001B[38;5;28mself\u001B[39m\u001B[38;5;241m.\u001B[39mon_advance_end()\n",
      "File \u001B[0;32m~/Meine Ablage/fhnw_computer_vision_mit_deep_learning_projekt/.env/lib/python3.11/site-packages/lightning/pytorch/loops/fit_loop.py:363\u001B[0m, in \u001B[0;36m_FitLoop.advance\u001B[0;34m(self)\u001B[0m\n\u001B[1;32m    362\u001B[0m \u001B[38;5;28;01massert\u001B[39;00m \u001B[38;5;28mself\u001B[39m\u001B[38;5;241m.\u001B[39m_data_fetcher \u001B[38;5;129;01mis\u001B[39;00m \u001B[38;5;129;01mnot\u001B[39;00m \u001B[38;5;28;01mNone\u001B[39;00m\n\u001B[0;32m--> 363\u001B[0m \u001B[38;5;28;43mself\u001B[39;49m\u001B[38;5;241;43m.\u001B[39;49m\u001B[43mepoch_loop\u001B[49m\u001B[38;5;241;43m.\u001B[39;49m\u001B[43mrun\u001B[49m\u001B[43m(\u001B[49m\u001B[38;5;28;43mself\u001B[39;49m\u001B[38;5;241;43m.\u001B[39;49m\u001B[43m_data_fetcher\u001B[49m\u001B[43m)\u001B[49m\n",
      "File \u001B[0;32m~/Meine Ablage/fhnw_computer_vision_mit_deep_learning_projekt/.env/lib/python3.11/site-packages/lightning/pytorch/loops/training_epoch_loop.py:140\u001B[0m, in \u001B[0;36m_TrainingEpochLoop.run\u001B[0;34m(self, data_fetcher)\u001B[0m\n\u001B[1;32m    139\u001B[0m \u001B[38;5;28;01mtry\u001B[39;00m:\n\u001B[0;32m--> 140\u001B[0m     \u001B[38;5;28;43mself\u001B[39;49m\u001B[38;5;241;43m.\u001B[39;49m\u001B[43madvance\u001B[49m\u001B[43m(\u001B[49m\u001B[43mdata_fetcher\u001B[49m\u001B[43m)\u001B[49m\n\u001B[1;32m    141\u001B[0m     \u001B[38;5;28mself\u001B[39m\u001B[38;5;241m.\u001B[39mon_advance_end(data_fetcher)\n",
      "File \u001B[0;32m~/Meine Ablage/fhnw_computer_vision_mit_deep_learning_projekt/.env/lib/python3.11/site-packages/lightning/pytorch/loops/training_epoch_loop.py:212\u001B[0m, in \u001B[0;36m_TrainingEpochLoop.advance\u001B[0;34m(self, data_fetcher)\u001B[0m\n\u001B[1;32m    211\u001B[0m dataloader_iter \u001B[38;5;241m=\u001B[39m \u001B[38;5;28;01mNone\u001B[39;00m\n\u001B[0;32m--> 212\u001B[0m batch, _, __ \u001B[38;5;241m=\u001B[39m \u001B[38;5;28mnext\u001B[39m(data_fetcher)\n\u001B[1;32m    213\u001B[0m \u001B[38;5;66;03m# TODO: we should instead use the batch_idx returned by the fetcher, however, that will require saving the\u001B[39;00m\n\u001B[1;32m    214\u001B[0m \u001B[38;5;66;03m# fetcher state so that the batch_idx is correct after restarting\u001B[39;00m\n",
      "File \u001B[0;32m~/Meine Ablage/fhnw_computer_vision_mit_deep_learning_projekt/.env/lib/python3.11/site-packages/lightning/pytorch/loops/fetchers.py:133\u001B[0m, in \u001B[0;36m_PrefetchDataFetcher.__next__\u001B[0;34m(self)\u001B[0m\n\u001B[1;32m    131\u001B[0m \u001B[38;5;28;01melif\u001B[39;00m \u001B[38;5;129;01mnot\u001B[39;00m \u001B[38;5;28mself\u001B[39m\u001B[38;5;241m.\u001B[39mdone:\n\u001B[1;32m    132\u001B[0m     \u001B[38;5;66;03m# this will run only when no pre-fetching was done.\u001B[39;00m\n\u001B[0;32m--> 133\u001B[0m     batch \u001B[38;5;241m=\u001B[39m \u001B[38;5;28;43msuper\u001B[39;49m\u001B[43m(\u001B[49m\u001B[43m)\u001B[49m\u001B[38;5;241;43m.\u001B[39;49m\u001B[38;5;21;43m__next__\u001B[39;49m\u001B[43m(\u001B[49m\u001B[43m)\u001B[49m\n\u001B[1;32m    134\u001B[0m \u001B[38;5;28;01melse\u001B[39;00m:\n\u001B[1;32m    135\u001B[0m     \u001B[38;5;66;03m# the iterator is empty\u001B[39;00m\n",
      "File \u001B[0;32m~/Meine Ablage/fhnw_computer_vision_mit_deep_learning_projekt/.env/lib/python3.11/site-packages/lightning/pytorch/loops/fetchers.py:60\u001B[0m, in \u001B[0;36m_DataFetcher.__next__\u001B[0;34m(self)\u001B[0m\n\u001B[1;32m     59\u001B[0m \u001B[38;5;28;01mtry\u001B[39;00m:\n\u001B[0;32m---> 60\u001B[0m     batch \u001B[38;5;241m=\u001B[39m \u001B[38;5;28mnext\u001B[39m(\u001B[38;5;28mself\u001B[39m\u001B[38;5;241m.\u001B[39miterator)\n\u001B[1;32m     61\u001B[0m \u001B[38;5;28;01mexcept\u001B[39;00m \u001B[38;5;167;01mStopIteration\u001B[39;00m:\n",
      "File \u001B[0;32m~/Meine Ablage/fhnw_computer_vision_mit_deep_learning_projekt/.env/lib/python3.11/site-packages/lightning/pytorch/utilities/combined_loader.py:341\u001B[0m, in \u001B[0;36mCombinedLoader.__next__\u001B[0;34m(self)\u001B[0m\n\u001B[1;32m    340\u001B[0m \u001B[38;5;28;01massert\u001B[39;00m \u001B[38;5;28mself\u001B[39m\u001B[38;5;241m.\u001B[39m_iterator \u001B[38;5;129;01mis\u001B[39;00m \u001B[38;5;129;01mnot\u001B[39;00m \u001B[38;5;28;01mNone\u001B[39;00m\n\u001B[0;32m--> 341\u001B[0m out \u001B[38;5;241m=\u001B[39m \u001B[38;5;28mnext\u001B[39m(\u001B[38;5;28mself\u001B[39m\u001B[38;5;241m.\u001B[39m_iterator)\n\u001B[1;32m    342\u001B[0m \u001B[38;5;28;01mif\u001B[39;00m \u001B[38;5;28misinstance\u001B[39m(\u001B[38;5;28mself\u001B[39m\u001B[38;5;241m.\u001B[39m_iterator, _Sequential):\n",
      "File \u001B[0;32m~/Meine Ablage/fhnw_computer_vision_mit_deep_learning_projekt/.env/lib/python3.11/site-packages/lightning/pytorch/utilities/combined_loader.py:78\u001B[0m, in \u001B[0;36m_MaxSizeCycle.__next__\u001B[0;34m(self)\u001B[0m\n\u001B[1;32m     77\u001B[0m \u001B[38;5;28;01mtry\u001B[39;00m:\n\u001B[0;32m---> 78\u001B[0m     out[i] \u001B[38;5;241m=\u001B[39m \u001B[38;5;28mnext\u001B[39m(\u001B[38;5;28mself\u001B[39m\u001B[38;5;241m.\u001B[39miterators[i])\n\u001B[1;32m     79\u001B[0m \u001B[38;5;28;01mexcept\u001B[39;00m \u001B[38;5;167;01mStopIteration\u001B[39;00m:\n",
      "File \u001B[0;32m~/Meine Ablage/fhnw_computer_vision_mit_deep_learning_projekt/.env/lib/python3.11/site-packages/torch/utils/data/dataloader.py:701\u001B[0m, in \u001B[0;36m_BaseDataLoaderIter.__next__\u001B[0;34m(self)\u001B[0m\n\u001B[1;32m    700\u001B[0m     \u001B[38;5;28mself\u001B[39m\u001B[38;5;241m.\u001B[39m_reset()  \u001B[38;5;66;03m# type: ignore[call-arg]\u001B[39;00m\n\u001B[0;32m--> 701\u001B[0m data \u001B[38;5;241m=\u001B[39m \u001B[38;5;28;43mself\u001B[39;49m\u001B[38;5;241;43m.\u001B[39;49m\u001B[43m_next_data\u001B[49m\u001B[43m(\u001B[49m\u001B[43m)\u001B[49m\n\u001B[1;32m    702\u001B[0m \u001B[38;5;28mself\u001B[39m\u001B[38;5;241m.\u001B[39m_num_yielded \u001B[38;5;241m+\u001B[39m\u001B[38;5;241m=\u001B[39m \u001B[38;5;241m1\u001B[39m\n",
      "File \u001B[0;32m~/Meine Ablage/fhnw_computer_vision_mit_deep_learning_projekt/.env/lib/python3.11/site-packages/torch/utils/data/dataloader.py:1448\u001B[0m, in \u001B[0;36m_MultiProcessingDataLoaderIter._next_data\u001B[0;34m(self)\u001B[0m\n\u001B[1;32m   1447\u001B[0m \u001B[38;5;28;01massert\u001B[39;00m \u001B[38;5;129;01mnot\u001B[39;00m \u001B[38;5;28mself\u001B[39m\u001B[38;5;241m.\u001B[39m_shutdown \u001B[38;5;129;01mand\u001B[39;00m \u001B[38;5;28mself\u001B[39m\u001B[38;5;241m.\u001B[39m_tasks_outstanding \u001B[38;5;241m>\u001B[39m \u001B[38;5;241m0\u001B[39m\n\u001B[0;32m-> 1448\u001B[0m idx, data \u001B[38;5;241m=\u001B[39m \u001B[38;5;28;43mself\u001B[39;49m\u001B[38;5;241;43m.\u001B[39;49m\u001B[43m_get_data\u001B[49m\u001B[43m(\u001B[49m\u001B[43m)\u001B[49m\n\u001B[1;32m   1449\u001B[0m \u001B[38;5;28mself\u001B[39m\u001B[38;5;241m.\u001B[39m_tasks_outstanding \u001B[38;5;241m-\u001B[39m\u001B[38;5;241m=\u001B[39m \u001B[38;5;241m1\u001B[39m\n",
      "File \u001B[0;32m~/Meine Ablage/fhnw_computer_vision_mit_deep_learning_projekt/.env/lib/python3.11/site-packages/torch/utils/data/dataloader.py:1412\u001B[0m, in \u001B[0;36m_MultiProcessingDataLoaderIter._get_data\u001B[0;34m(self)\u001B[0m\n\u001B[1;32m   1411\u001B[0m \u001B[38;5;28;01mwhile\u001B[39;00m \u001B[38;5;28;01mTrue\u001B[39;00m:\n\u001B[0;32m-> 1412\u001B[0m     success, data \u001B[38;5;241m=\u001B[39m \u001B[38;5;28;43mself\u001B[39;49m\u001B[38;5;241;43m.\u001B[39;49m\u001B[43m_try_get_data\u001B[49m\u001B[43m(\u001B[49m\u001B[43m)\u001B[49m\n\u001B[1;32m   1413\u001B[0m     \u001B[38;5;28;01mif\u001B[39;00m success:\n",
      "File \u001B[0;32m~/Meine Ablage/fhnw_computer_vision_mit_deep_learning_projekt/.env/lib/python3.11/site-packages/torch/utils/data/dataloader.py:1243\u001B[0m, in \u001B[0;36m_MultiProcessingDataLoaderIter._try_get_data\u001B[0;34m(self, timeout)\u001B[0m\n\u001B[1;32m   1242\u001B[0m \u001B[38;5;28;01mtry\u001B[39;00m:\n\u001B[0;32m-> 1243\u001B[0m     data \u001B[38;5;241m=\u001B[39m \u001B[38;5;28;43mself\u001B[39;49m\u001B[38;5;241;43m.\u001B[39;49m\u001B[43m_data_queue\u001B[49m\u001B[38;5;241;43m.\u001B[39;49m\u001B[43mget\u001B[49m\u001B[43m(\u001B[49m\u001B[43mtimeout\u001B[49m\u001B[38;5;241;43m=\u001B[39;49m\u001B[43mtimeout\u001B[49m\u001B[43m)\u001B[49m\n\u001B[1;32m   1244\u001B[0m     \u001B[38;5;28;01mreturn\u001B[39;00m (\u001B[38;5;28;01mTrue\u001B[39;00m, data)\n",
      "File \u001B[0;32m/Library/Frameworks/Python.framework/Versions/3.11/lib/python3.11/multiprocessing/queues.py:113\u001B[0m, in \u001B[0;36mQueue.get\u001B[0;34m(self, block, timeout)\u001B[0m\n\u001B[1;32m    112\u001B[0m timeout \u001B[38;5;241m=\u001B[39m deadline \u001B[38;5;241m-\u001B[39m time\u001B[38;5;241m.\u001B[39mmonotonic()\n\u001B[0;32m--> 113\u001B[0m \u001B[38;5;28;01mif\u001B[39;00m \u001B[38;5;129;01mnot\u001B[39;00m \u001B[38;5;28;43mself\u001B[39;49m\u001B[38;5;241;43m.\u001B[39;49m\u001B[43m_poll\u001B[49m\u001B[43m(\u001B[49m\u001B[43mtimeout\u001B[49m\u001B[43m)\u001B[49m:\n\u001B[1;32m    114\u001B[0m     \u001B[38;5;28;01mraise\u001B[39;00m Empty\n",
      "File \u001B[0;32m/Library/Frameworks/Python.framework/Versions/3.11/lib/python3.11/multiprocessing/connection.py:257\u001B[0m, in \u001B[0;36m_ConnectionBase.poll\u001B[0;34m(self, timeout)\u001B[0m\n\u001B[1;32m    256\u001B[0m \u001B[38;5;28mself\u001B[39m\u001B[38;5;241m.\u001B[39m_check_readable()\n\u001B[0;32m--> 257\u001B[0m \u001B[38;5;28;01mreturn\u001B[39;00m \u001B[38;5;28;43mself\u001B[39;49m\u001B[38;5;241;43m.\u001B[39;49m\u001B[43m_poll\u001B[49m\u001B[43m(\u001B[49m\u001B[43mtimeout\u001B[49m\u001B[43m)\u001B[49m\n",
      "File \u001B[0;32m/Library/Frameworks/Python.framework/Versions/3.11/lib/python3.11/multiprocessing/connection.py:440\u001B[0m, in \u001B[0;36mConnection._poll\u001B[0;34m(self, timeout)\u001B[0m\n\u001B[1;32m    439\u001B[0m \u001B[38;5;28;01mdef\u001B[39;00m \u001B[38;5;21m_poll\u001B[39m(\u001B[38;5;28mself\u001B[39m, timeout):\n\u001B[0;32m--> 440\u001B[0m     r \u001B[38;5;241m=\u001B[39m \u001B[43mwait\u001B[49m\u001B[43m(\u001B[49m\u001B[43m[\u001B[49m\u001B[38;5;28;43mself\u001B[39;49m\u001B[43m]\u001B[49m\u001B[43m,\u001B[49m\u001B[43m \u001B[49m\u001B[43mtimeout\u001B[49m\u001B[43m)\u001B[49m\n\u001B[1;32m    441\u001B[0m     \u001B[38;5;28;01mreturn\u001B[39;00m \u001B[38;5;28mbool\u001B[39m(r)\n",
      "File \u001B[0;32m/Library/Frameworks/Python.framework/Versions/3.11/lib/python3.11/multiprocessing/connection.py:948\u001B[0m, in \u001B[0;36mwait\u001B[0;34m(object_list, timeout)\u001B[0m\n\u001B[1;32m    947\u001B[0m \u001B[38;5;28;01mwhile\u001B[39;00m \u001B[38;5;28;01mTrue\u001B[39;00m:\n\u001B[0;32m--> 948\u001B[0m     ready \u001B[38;5;241m=\u001B[39m \u001B[43mselector\u001B[49m\u001B[38;5;241;43m.\u001B[39;49m\u001B[43mselect\u001B[49m\u001B[43m(\u001B[49m\u001B[43mtimeout\u001B[49m\u001B[43m)\u001B[49m\n\u001B[1;32m    949\u001B[0m     \u001B[38;5;28;01mif\u001B[39;00m ready:\n",
      "File \u001B[0;32m/Library/Frameworks/Python.framework/Versions/3.11/lib/python3.11/selectors.py:415\u001B[0m, in \u001B[0;36m_PollLikeSelector.select\u001B[0;34m(self, timeout)\u001B[0m\n\u001B[1;32m    414\u001B[0m \u001B[38;5;28;01mtry\u001B[39;00m:\n\u001B[0;32m--> 415\u001B[0m     fd_event_list \u001B[38;5;241m=\u001B[39m \u001B[38;5;28mself\u001B[39m\u001B[38;5;241m.\u001B[39m_selector\u001B[38;5;241m.\u001B[39mpoll(timeout)\n\u001B[1;32m    416\u001B[0m \u001B[38;5;28;01mexcept\u001B[39;00m \u001B[38;5;167;01mInterruptedError\u001B[39;00m:\n",
      "\u001B[0;31mKeyboardInterrupt\u001B[0m: ",
      "\nDuring handling of the above exception, another exception occurred:\n",
      "\u001B[0;31mNameError\u001B[0m                                 Traceback (most recent call last)",
      "Cell \u001B[0;32mIn[39], line 22\u001B[0m\n\u001B[1;32m     19\u001B[0m model \u001B[38;5;241m=\u001B[39m Classifier(net)\n\u001B[1;32m     21\u001B[0m dl_train \u001B[38;5;241m=\u001B[39m DataLoader(ds_train, batch_size\u001B[38;5;241m=\u001B[39m\u001B[38;5;241m16\u001B[39m, shuffle\u001B[38;5;241m=\u001B[39m\u001B[38;5;28;01mTrue\u001B[39;00m, num_workers\u001B[38;5;241m=\u001B[39m\u001B[38;5;241m5\u001B[39m)\n\u001B[0;32m---> 22\u001B[0m \u001B[43mtrainer\u001B[49m\u001B[38;5;241;43m.\u001B[39;49m\u001B[43mfit\u001B[49m\u001B[43m(\u001B[49m\u001B[43mmodel\u001B[49m\u001B[43m,\u001B[49m\u001B[43m \u001B[49m\u001B[43mtrain_dataloaders\u001B[49m\u001B[38;5;241;43m=\u001B[39;49m\u001B[43mdl_train\u001B[49m\u001B[43m)\u001B[49m\n",
      "File \u001B[0;32m~/Meine Ablage/fhnw_computer_vision_mit_deep_learning_projekt/.env/lib/python3.11/site-packages/lightning/pytorch/trainer/trainer.py:538\u001B[0m, in \u001B[0;36mTrainer.fit\u001B[0;34m(self, model, train_dataloaders, val_dataloaders, datamodule, ckpt_path)\u001B[0m\n\u001B[1;32m    536\u001B[0m \u001B[38;5;28mself\u001B[39m\u001B[38;5;241m.\u001B[39mstate\u001B[38;5;241m.\u001B[39mstatus \u001B[38;5;241m=\u001B[39m TrainerStatus\u001B[38;5;241m.\u001B[39mRUNNING\n\u001B[1;32m    537\u001B[0m \u001B[38;5;28mself\u001B[39m\u001B[38;5;241m.\u001B[39mtraining \u001B[38;5;241m=\u001B[39m \u001B[38;5;28;01mTrue\u001B[39;00m\n\u001B[0;32m--> 538\u001B[0m \u001B[43mcall\u001B[49m\u001B[38;5;241;43m.\u001B[39;49m\u001B[43m_call_and_handle_interrupt\u001B[49m\u001B[43m(\u001B[49m\n\u001B[1;32m    539\u001B[0m \u001B[43m    \u001B[49m\u001B[38;5;28;43mself\u001B[39;49m\u001B[43m,\u001B[49m\u001B[43m \u001B[49m\u001B[38;5;28;43mself\u001B[39;49m\u001B[38;5;241;43m.\u001B[39;49m\u001B[43m_fit_impl\u001B[49m\u001B[43m,\u001B[49m\u001B[43m \u001B[49m\u001B[43mmodel\u001B[49m\u001B[43m,\u001B[49m\u001B[43m \u001B[49m\u001B[43mtrain_dataloaders\u001B[49m\u001B[43m,\u001B[49m\u001B[43m \u001B[49m\u001B[43mval_dataloaders\u001B[49m\u001B[43m,\u001B[49m\u001B[43m \u001B[49m\u001B[43mdatamodule\u001B[49m\u001B[43m,\u001B[49m\u001B[43m \u001B[49m\u001B[43mckpt_path\u001B[49m\n\u001B[1;32m    540\u001B[0m \u001B[43m\u001B[49m\u001B[43m)\u001B[49m\n",
      "File \u001B[0;32m~/Meine Ablage/fhnw_computer_vision_mit_deep_learning_projekt/.env/lib/python3.11/site-packages/lightning/pytorch/trainer/call.py:64\u001B[0m, in \u001B[0;36m_call_and_handle_interrupt\u001B[0;34m(trainer, trainer_fn, *args, **kwargs)\u001B[0m\n\u001B[1;32m     62\u001B[0m     \u001B[38;5;28;01mif\u001B[39;00m \u001B[38;5;28misinstance\u001B[39m(launcher, _SubprocessScriptLauncher):\n\u001B[1;32m     63\u001B[0m         launcher\u001B[38;5;241m.\u001B[39mkill(_get_sigkill_signal())\n\u001B[0;32m---> 64\u001B[0m     \u001B[43mexit\u001B[49m(\u001B[38;5;241m1\u001B[39m)\n\u001B[1;32m     66\u001B[0m \u001B[38;5;28;01mexcept\u001B[39;00m \u001B[38;5;167;01mBaseException\u001B[39;00m \u001B[38;5;28;01mas\u001B[39;00m exception:\n\u001B[1;32m     67\u001B[0m     _interrupt(trainer, exception)\n",
      "\u001B[0;31mNameError\u001B[0m: name 'exit' is not defined"
     ]
    }
   ],
   "execution_count": 39
  },
  {
   "cell_type": "code",
   "execution_count": null,
   "metadata": {
    "id": "lof-wDonbtER"
   },
   "outputs": [],
   "source": [
    "print(f\"Metrics:  {trainer.logged_metrics}\")"
   ]
  },
  {
   "cell_type": "markdown",
   "metadata": {
    "id": "oA_toJfEbtER"
   },
   "source": [
    "**Question**: Did it work?"
   ]
  },
  {
   "cell_type": "markdown",
   "metadata": {
    "id": "LDwni18ibtER"
   },
   "source": [
    "## Step 3 - (Over)Fit\n",
    "\n",
    "In this step we try to drive the trainings-loss as low as possible.\n",
    "\n",
    "**Model Selection and Initialization**\n",
    "\n",
    "- Pick a proven model: Start with a simple, well-established architecture (e.g., ResNet-50 for image classification) rather than creating complex, custom models.\n",
    "- Use Adam optimizer: Begin with Adam and a learning rate of 3e-4 for its forgiving nature with hyperparameters (or the PyTorch default value).\n",
    "\n",
    "**Gradual Complexity**\n",
    "\n",
    "- Add complexity incrementally: Integrate multiple signals or features into your classifier one at a time, ensuring each addition improves performance.\n",
    "\n",
    "**Learning Rate Management**\n",
    "\n",
    "- Avoid default learning rate decay: Be cautious with repurposed code and learning rate decay schedules. Initially, disable learning rate decay and maintain a constant learning rate, tuning it later in the project.\n",
    "    \n",
    "\n",
    "You can do the following:\n",
    "- implement your own model\n",
    "- use a pre-defined model\n",
    "- use a pre-trained model\n",
    "\n",
    "**Important**: Inspect how the model performs. Which samples does it correctly classify? Which samples are wrong? Do you see a pattern? Can this be fixes?"
   ]
  },
  {
   "cell_type": "markdown",
   "metadata": {
    "id": "nojJbEG6btER"
   },
   "source": [
    "### Setup\n",
    "\n",
    "We load the data again and start from scratch."
   ]
  },
  {
   "cell_type": "code",
   "metadata": {
    "id": "_c0ucSfCbtER",
    "ExecuteTime": {
     "end_time": "2024-11-23T11:24:09.061855Z",
     "start_time": "2024-11-23T11:24:08.548540Z"
    }
   },
   "source": [
    "from dl_cv_lectures import utils\n",
    "\n",
    "\n",
    "ds = ImageFolder(DATA_PATH)\n",
    "\n",
    "all_ids = [i for i in range(0, len(ds.observations))]\n",
    "all_labels = [x[\"label\"] for x in ds.observations]\n",
    "\n",
    "train_ids, val_ids, test_ids = utils.create_train_test_split(\n",
    "    all_ids, all_labels, random_state=123, test_size=0.2, val_size=0.1\n",
    ")\n",
    "\n",
    "\n",
    "ds_train = ImageFolder.from_subset(ds, train_ids)\n",
    "ds_val = ImageFolder.from_subset(ds, val_ids)\n",
    "ds_test = ImageFolder.from_subset(ds, test_ids)"
   ],
   "outputs": [
    {
     "name": "stdout",
     "output_type": "stream",
     "text": [
      "Found the following classes: ['Brick 2 x 2 Corner', 'Tile Special 1 x 2 Grille with Bottom Groove'], in total 429 images\n",
      "Found the following classes: ['Brick 2 x 2 Corner', 'Tile Special 1 x 2 Grille with Bottom Groove'], in total 429 images\n",
      "Created a subset with 308 images from the original dataset of 429 images\n",
      "Found the following classes: ['Brick 2 x 2 Corner', 'Tile Special 1 x 2 Grille with Bottom Groove'], in total 429 images\n",
      "Created a subset with 35 images from the original dataset of 429 images\n",
      "Found the following classes: ['Brick 2 x 2 Corner', 'Tile Special 1 x 2 Grille with Bottom Groove'], in total 429 images\n",
      "Created a subset with 86 images from the original dataset of 429 images\n"
     ]
    }
   ],
   "execution_count": 40
  },
  {
   "cell_type": "markdown",
   "metadata": {
    "nbgrader": {
     "grade": false,
     "grade_id": "cell-1f3c0de79c9f603b",
     "locked": true,
     "schema_version": 3,
     "solution": false,
     "task": false
    },
    "tags": [],
    "id": "XZIQrreibtER"
   },
   "source": [
    "## Pre-Trained Model\n",
    "\n",
    "In the following we will use a pre-trained model and adapt it to our dataset (transfer-learning).\n",
    "\n",
    "### Load Model\n",
    "\n",
    "Here we use a pre-trained model.  Read the doc here: [https://pytorch.org/vision/0.8/models.html](https://pytorch.org/vision/0.8/models.html).)\n",
    "\n",
    "**It is important to read how the data is pre-processed for a given pre-trained model. This should be consistent with how you pre-process the data.**\n"
   ]
  },
  {
   "cell_type": "code",
   "metadata": {
    "nbgrader": {
     "grade": true,
     "grade_id": "cell-39c22ca50688c3fe",
     "locked": false,
     "points": 0,
     "schema_version": 3,
     "solution": true,
     "task": false
    },
    "tags": [],
    "id": "_nFSLy85btER",
    "ExecuteTime": {
     "end_time": "2024-11-23T11:37:55.916995Z",
     "start_time": "2024-11-23T11:37:55.626039Z"
    }
   },
   "source": [
    "import torchvision.models as models\n",
    "\n",
    "net = models.resnet18(weights=models.ResNet18_Weights.DEFAULT)\n",
    "\n",
    "tr_train = transforms.Compose(\n",
    "    [\n",
    "        transforms.v2.RGB(),\n",
    "        transforms.RandomResizedCrop((128, 128)),\n",
    "        transforms.RandomHorizontalFlip(),\n",
    "        transforms.ToTensor(),\n",
    "        transforms.Normalize([0.485, 0.456, 0.406], [0.229, 0.224, 0.225]),\n",
    "    ]\n",
    ")\n",
    "\n",
    "tr_val = transforms.Compose(\n",
    "    [\n",
    "        transforms.v2.RGB(),\n",
    "        transforms.Resize((128, 128)),\n",
    "        transforms.ToTensor(),\n",
    "        transforms.Normalize([0.485, 0.456, 0.406], [0.229, 0.224, 0.225]),\n",
    "    ]\n",
    ")\n",
    "\n",
    "\n",
    "print(torchinfo.summary(net, input_size=(1, 3, 64, 64)))"
   ],
   "outputs": [
    {
     "name": "stdout",
     "output_type": "stream",
     "text": [
      "==========================================================================================\n",
      "Layer (type:depth-idx)                   Output Shape              Param #\n",
      "==========================================================================================\n",
      "ResNet                                   [1, 1000]                 --\n",
      "├─Conv2d: 1-1                            [1, 64, 32, 32]           9,408\n",
      "├─BatchNorm2d: 1-2                       [1, 64, 32, 32]           128\n",
      "├─ReLU: 1-3                              [1, 64, 32, 32]           --\n",
      "├─MaxPool2d: 1-4                         [1, 64, 16, 16]           --\n",
      "├─Sequential: 1-5                        [1, 64, 16, 16]           --\n",
      "│    └─BasicBlock: 2-1                   [1, 64, 16, 16]           --\n",
      "│    │    └─Conv2d: 3-1                  [1, 64, 16, 16]           36,864\n",
      "│    │    └─BatchNorm2d: 3-2             [1, 64, 16, 16]           128\n",
      "│    │    └─ReLU: 3-3                    [1, 64, 16, 16]           --\n",
      "│    │    └─Conv2d: 3-4                  [1, 64, 16, 16]           36,864\n",
      "│    │    └─BatchNorm2d: 3-5             [1, 64, 16, 16]           128\n",
      "│    │    └─ReLU: 3-6                    [1, 64, 16, 16]           --\n",
      "│    └─BasicBlock: 2-2                   [1, 64, 16, 16]           --\n",
      "│    │    └─Conv2d: 3-7                  [1, 64, 16, 16]           36,864\n",
      "│    │    └─BatchNorm2d: 3-8             [1, 64, 16, 16]           128\n",
      "│    │    └─ReLU: 3-9                    [1, 64, 16, 16]           --\n",
      "│    │    └─Conv2d: 3-10                 [1, 64, 16, 16]           36,864\n",
      "│    │    └─BatchNorm2d: 3-11            [1, 64, 16, 16]           128\n",
      "│    │    └─ReLU: 3-12                   [1, 64, 16, 16]           --\n",
      "├─Sequential: 1-6                        [1, 128, 8, 8]            --\n",
      "│    └─BasicBlock: 2-3                   [1, 128, 8, 8]            --\n",
      "│    │    └─Conv2d: 3-13                 [1, 128, 8, 8]            73,728\n",
      "│    │    └─BatchNorm2d: 3-14            [1, 128, 8, 8]            256\n",
      "│    │    └─ReLU: 3-15                   [1, 128, 8, 8]            --\n",
      "│    │    └─Conv2d: 3-16                 [1, 128, 8, 8]            147,456\n",
      "│    │    └─BatchNorm2d: 3-17            [1, 128, 8, 8]            256\n",
      "│    │    └─Sequential: 3-18             [1, 128, 8, 8]            8,448\n",
      "│    │    └─ReLU: 3-19                   [1, 128, 8, 8]            --\n",
      "│    └─BasicBlock: 2-4                   [1, 128, 8, 8]            --\n",
      "│    │    └─Conv2d: 3-20                 [1, 128, 8, 8]            147,456\n",
      "│    │    └─BatchNorm2d: 3-21            [1, 128, 8, 8]            256\n",
      "│    │    └─ReLU: 3-22                   [1, 128, 8, 8]            --\n",
      "│    │    └─Conv2d: 3-23                 [1, 128, 8, 8]            147,456\n",
      "│    │    └─BatchNorm2d: 3-24            [1, 128, 8, 8]            256\n",
      "│    │    └─ReLU: 3-25                   [1, 128, 8, 8]            --\n",
      "├─Sequential: 1-7                        [1, 256, 4, 4]            --\n",
      "│    └─BasicBlock: 2-5                   [1, 256, 4, 4]            --\n",
      "│    │    └─Conv2d: 3-26                 [1, 256, 4, 4]            294,912\n",
      "│    │    └─BatchNorm2d: 3-27            [1, 256, 4, 4]            512\n",
      "│    │    └─ReLU: 3-28                   [1, 256, 4, 4]            --\n",
      "│    │    └─Conv2d: 3-29                 [1, 256, 4, 4]            589,824\n",
      "│    │    └─BatchNorm2d: 3-30            [1, 256, 4, 4]            512\n",
      "│    │    └─Sequential: 3-31             [1, 256, 4, 4]            33,280\n",
      "│    │    └─ReLU: 3-32                   [1, 256, 4, 4]            --\n",
      "│    └─BasicBlock: 2-6                   [1, 256, 4, 4]            --\n",
      "│    │    └─Conv2d: 3-33                 [1, 256, 4, 4]            589,824\n",
      "│    │    └─BatchNorm2d: 3-34            [1, 256, 4, 4]            512\n",
      "│    │    └─ReLU: 3-35                   [1, 256, 4, 4]            --\n",
      "│    │    └─Conv2d: 3-36                 [1, 256, 4, 4]            589,824\n",
      "│    │    └─BatchNorm2d: 3-37            [1, 256, 4, 4]            512\n",
      "│    │    └─ReLU: 3-38                   [1, 256, 4, 4]            --\n",
      "├─Sequential: 1-8                        [1, 512, 2, 2]            --\n",
      "│    └─BasicBlock: 2-7                   [1, 512, 2, 2]            --\n",
      "│    │    └─Conv2d: 3-39                 [1, 512, 2, 2]            1,179,648\n",
      "│    │    └─BatchNorm2d: 3-40            [1, 512, 2, 2]            1,024\n",
      "│    │    └─ReLU: 3-41                   [1, 512, 2, 2]            --\n",
      "│    │    └─Conv2d: 3-42                 [1, 512, 2, 2]            2,359,296\n",
      "│    │    └─BatchNorm2d: 3-43            [1, 512, 2, 2]            1,024\n",
      "│    │    └─Sequential: 3-44             [1, 512, 2, 2]            132,096\n",
      "│    │    └─ReLU: 3-45                   [1, 512, 2, 2]            --\n",
      "│    └─BasicBlock: 2-8                   [1, 512, 2, 2]            --\n",
      "│    │    └─Conv2d: 3-46                 [1, 512, 2, 2]            2,359,296\n",
      "│    │    └─BatchNorm2d: 3-47            [1, 512, 2, 2]            1,024\n",
      "│    │    └─ReLU: 3-48                   [1, 512, 2, 2]            --\n",
      "│    │    └─Conv2d: 3-49                 [1, 512, 2, 2]            2,359,296\n",
      "│    │    └─BatchNorm2d: 3-50            [1, 512, 2, 2]            1,024\n",
      "│    │    └─ReLU: 3-51                   [1, 512, 2, 2]            --\n",
      "├─AdaptiveAvgPool2d: 1-9                 [1, 512, 1, 1]            --\n",
      "├─Linear: 1-10                           [1, 1000]                 513,000\n",
      "==========================================================================================\n",
      "Total params: 11,689,512\n",
      "Trainable params: 11,689,512\n",
      "Non-trainable params: 0\n",
      "Total mult-adds (Units.MEGABYTES): 148.57\n",
      "==========================================================================================\n",
      "Input size (MB): 0.05\n",
      "Forward/backward pass size (MB): 3.25\n",
      "Params size (MB): 46.76\n",
      "Estimated Total Size (MB): 50.06\n",
      "==========================================================================================\n"
     ]
    }
   ],
   "execution_count": 55
  },
  {
   "cell_type": "markdown",
   "metadata": {
    "id": "pLYofgW4btER"
   },
   "source": [
    "Now we adapt the output layer to match our dataset.\n",
    "\n",
    "**Adapt** to the correct number of classes."
   ]
  },
  {
   "cell_type": "code",
   "metadata": {
    "id": "R-LpshjdbtES",
    "ExecuteTime": {
     "end_time": "2024-11-23T11:37:57.016277Z",
     "start_time": "2024-11-23T11:37:56.983144Z"
    }
   },
   "source": [
    "net.fc = nn.Sequential(nn.Linear(512, 2))"
   ],
   "outputs": [],
   "execution_count": 56
  },
  {
   "cell_type": "markdown",
   "metadata": {
    "id": "s_LoY6PGbtES"
   },
   "source": [
    "We can now train the model.\n",
    "\n",
    "We also use a `logger` object to log the training process.\n",
    "\n",
    "Again: Adjust the parameters of the trainer class to your liking."
   ]
  },
  {
   "metadata": {
    "ExecuteTime": {
     "end_time": "2024-11-23T11:37:58.339474Z",
     "start_time": "2024-11-23T11:37:58.299104Z"
    }
   },
   "cell_type": "code",
   "source": "ds.classes",
   "outputs": [
    {
     "data": {
      "text/plain": [
       "['Brick 2 x 2 Corner', 'Tile Special 1 x 2 Grille with Bottom Groove']"
      ]
     },
     "execution_count": 57,
     "metadata": {},
     "output_type": "execute_result"
    }
   ],
   "execution_count": 57
  },
  {
   "cell_type": "code",
   "metadata": {
    "id": "CeuK38vabtES",
    "ExecuteTime": {
     "end_time": "2024-11-23T11:41:06.803051Z",
     "start_time": "2024-11-23T11:40:21.477575Z"
    }
   },
   "source": [
    "from dl_cv_lectures.data.image_folder import DataSetModule\n",
    "\n",
    "L.seed_everything(123)\n",
    "\n",
    "\n",
    "logger = TensorBoardLogger(SCRIPT_DIR.joinpath(\"lightning_logs\"), name=\"resnet18\")\n",
    "\n",
    "max_epochs = 2\n",
    "max_steps = 100\n",
    "\n",
    "trainer = L.Trainer(\n",
    "    devices=\"auto\",\n",
    "    accelerator=\"auto\",\n",
    "    precision=\"32\",\n",
    "    max_epochs=max_epochs,\n",
    "    max_steps=max_steps,\n",
    "    fast_dev_run=False,\n",
    "    enable_checkpointing=False,\n",
    "    logger=logger,\n",
    "    default_root_dir=SCRIPT_DIR.joinpath(\"lightning_logs\"),\n",
    ")\n",
    "\n",
    "model = Classifier(net)\n",
    "\n",
    "\n",
    "dm = DataSetModule(\n",
    "    ds_train=ds_train,\n",
    "    ds_val=ds_val,\n",
    "    ds_test=ds_test,\n",
    "    classes=ds.classes,\n",
    "    train_transform=tr_train,\n",
    "    test_transform=tr_val,\n",
    "    batch_size=64,\n",
    ")\n",
    "\n",
    "\n",
    "trainer.fit(model, datamodule=dm)"
   ],
   "outputs": [
    {
     "name": "stderr",
     "output_type": "stream",
     "text": [
      "INFO: Seed set to 123\n",
      "INFO:lightning.fabric.utilities.seed:Seed set to 123\n"
     ]
    },
    {
     "data": {
      "text/plain": [
       "123"
      ]
     },
     "execution_count": 60,
     "metadata": {},
     "output_type": "execute_result"
    },
    {
     "name": "stderr",
     "output_type": "stream",
     "text": [
      "INFO: GPU available: True (mps), used: True\n",
      "INFO:lightning.pytorch.utilities.rank_zero:GPU available: True (mps), used: True\n",
      "INFO: TPU available: False, using: 0 TPU cores\n",
      "INFO:lightning.pytorch.utilities.rank_zero:TPU available: False, using: 0 TPU cores\n",
      "INFO: HPU available: False, using: 0 HPUs\n",
      "INFO:lightning.pytorch.utilities.rank_zero:HPU available: False, using: 0 HPUs\n",
      "/Users/lukaswoodtli/Meine Ablage/fhnw_computer_vision_mit_deep_learning_projekt/.env/lib/python3.11/site-packages/lightning/pytorch/trainer/configuration_validator.py:68: You passed in a `val_dataloader` but have no `validation_step`. Skipping val loop.\n",
      "INFO: \n",
      "  | Name           | Type             | Params | Mode \n",
      "------------------------------------------------------------\n",
      "0 | model          | ResNet           | 11.2 M | train\n",
      "1 | loss_fn        | CrossEntropyLoss | 0      | train\n",
      "2 | train_accuracy | BinaryAccuracy   | 0      | train\n",
      "3 | train_loss     | MeanMetric       | 0      | train\n",
      "------------------------------------------------------------\n",
      "11.2 M    Trainable params\n",
      "0         Non-trainable params\n",
      "11.2 M    Total params\n",
      "44.710    Total estimated model params size (MB)\n",
      "72        Modules in train mode\n",
      "0         Modules in eval mode\n",
      "INFO:lightning.pytorch.callbacks.model_summary:\n",
      "  | Name           | Type             | Params | Mode \n",
      "------------------------------------------------------------\n",
      "0 | model          | ResNet           | 11.2 M | train\n",
      "1 | loss_fn        | CrossEntropyLoss | 0      | train\n",
      "2 | train_accuracy | BinaryAccuracy   | 0      | train\n",
      "3 | train_loss     | MeanMetric       | 0      | train\n",
      "------------------------------------------------------------\n",
      "11.2 M    Trainable params\n",
      "0         Non-trainable params\n",
      "11.2 M    Total params\n",
      "44.710    Total estimated model params size (MB)\n",
      "72        Modules in train mode\n",
      "0         Modules in eval mode\n",
      "/Users/lukaswoodtli/Meine Ablage/fhnw_computer_vision_mit_deep_learning_projekt/.env/lib/python3.11/site-packages/lightning/pytorch/trainer/connectors/data_connector.py:419: Consider setting `persistent_workers=True` in 'train_dataloader' to speed up the dataloader worker initialization.\n",
      "/Users/lukaswoodtli/Meine Ablage/fhnw_computer_vision_mit_deep_learning_projekt/.env/lib/python3.11/site-packages/lightning/pytorch/loops/fit_loop.py:298: The number of training batches (5) is smaller than the logging interval Trainer(log_every_n_steps=50). Set a lower value for log_every_n_steps if you want to see logs for the training epoch.\n"
     ]
    },
    {
     "data": {
      "text/plain": [
       "Training: |          | 0/? [00:00<?, ?it/s]"
      ],
      "application/vnd.jupyter.widget-view+json": {
       "version_major": 2,
       "version_minor": 0,
       "model_id": "a8881b9d01b54b79a88d2bdc19adf679"
      }
     },
     "metadata": {},
     "output_type": "display_data"
    },
    {
     "name": "stderr",
     "output_type": "stream",
     "text": [
      "INFO: `Trainer.fit` stopped: `max_epochs=2` reached.\n",
      "INFO:lightning.pytorch.utilities.rank_zero:`Trainer.fit` stopped: `max_epochs=2` reached.\n"
     ]
    }
   ],
   "execution_count": 60
  },
  {
   "cell_type": "code",
   "metadata": {
    "id": "aLRnUAGhbtET",
    "ExecuteTime": {
     "end_time": "2024-11-23T11:41:06.860053Z",
     "start_time": "2024-11-23T11:41:06.812666Z"
    }
   },
   "source": "print(f\"Metrics: {trainer.logged_metrics}\")",
   "outputs": [
    {
     "name": "stdout",
     "output_type": "stream",
     "text": [
      "Metrics: {'train/acc_step': tensor(1.), 'train/loss_step': tensor(0.0519), 'train/acc_epoch': tensor(0.9578), 'train/loss_epoch': tensor(0.1374)}\n"
     ]
    }
   ],
   "execution_count": 61
  },
  {
   "cell_type": "markdown",
   "metadata": {
    "id": "sGqeivUTbtET"
   },
   "source": [
    "View the tensorboard logs. This may not work in a container without opening tensorboard ports.\n",
    "\n",
    "(You would need to add the following options to docker run `-p 6006-6015:6006-6015`)\n",
    "\n",
    "If working locally, you can simply type: `localhost:6008' in your browser, after executing he following lines."
   ]
  },
  {
   "cell_type": "markdown",
   "metadata": {
    "id": "yC4bfgRBbtET"
   },
   "source": [
    "**Task**: Feel Free to try a larger model and observe the performance. You also might want to train your model longer."
   ]
  },
  {
   "cell_type": "markdown",
   "metadata": {
    "id": "9fXpruaXbtET"
   },
   "source": [
    "**Task**: It is important to insepct model performance at this point. Try to figure out where the model works well and where it fails. And try to figure out why and if you can do something about it."
   ]
  },
  {
   "cell_type": "markdown",
   "metadata": {
    "id": "Fi6a6UPGbtET"
   },
   "source": [
    "## Step 4) - Regularization\n",
    "\n",
    "Regularization is a process to deliberately limit a model's capacity in order to reduce overfitting and to improve generalization.\n",
    "\n",
    "**Data Collection and Augmentation**\n",
    "\n",
    "- Get more data: Collect additional real training data for the most effective regularization.\n",
    "- Data augmentation: Use more aggressive data augmentation techniques.\n",
    "- Creative augmentation: Explore simulation, hybrid methods, or GANs to expand datasets.\n",
    "\n",
    "**Model Initialization and Size**\n",
    "\n",
    "- Pretrain: Utilize pretrained networks when possible.\n",
    "- Smaller input dimensionality: Remove features with spurious signals and reduce image size if low-level details are not critical.\n",
    "- Smaller model size: Use domain knowledge to constrain and reduce the size of the network.\n",
    "\n",
    "**Regularization Techniques**\n",
    "\n",
    "- Decrease batch size: Smaller batch sizes can act as stronger regularizers due to batch normalization effects.\n",
    "- Add dropout: Use dropout (including dropout2d for ConvNets) sparingly.\n",
    "- Weight decay: Increase the weight decay penalty.\n",
    "- Early stopping: Stop training based on validation loss to avoid overfitting.\n",
    "\n",
    "**Model Complexity**\n",
    "\n",
    "- Try a larger model: Consider larger models for potentially better early-stopped performance, despite higher risk of eventual overfitting.\n",
    "\n",
    "  \n",
    "\n",
    "You can try the following techniques:\n",
    "\n",
    "- Weight Decay\n",
    "- Data Augmentation\n",
    "- Early Stopping on Validation Set\n"
   ]
  },
  {
   "cell_type": "markdown",
   "metadata": {
    "id": "tEKPX1OzbtET"
   },
   "source": [
    "### Weight Decay\n",
    "\n",
    "Weight decay is a technique to reduce model complexity by adding a penalty to the magnitude of the weights. It can be implemented by decaying the weights towards 0 after each gradient descent step.\n",
    "\n",
    "Read the following documentation and add Weight Decay to your model: [torch.optim.Adam](https://pytorch.org/docs/stable/generated/torch.optim.Adam.html#torch.optim.Adam)\n",
    "\n",
    "It is implemented in the optimizer.\n",
    "\n",
    "Make it configurable."
   ]
  },
  {
   "cell_type": "code",
   "execution_count": null,
   "metadata": {
    "nbgrader": {
     "grade": true,
     "grade_id": "cell-1df2c55234f1bd22",
     "locked": false,
     "points": 0,
     "schema_version": 3,
     "solution": true,
     "task": false
    },
    "id": "a31sFuKCbtET"
   },
   "outputs": [],
   "source": [
    "class Classifier(L.LightningModule):\n",
    "    def __init__(self, model, weight_decay: float = 0.0):\n",
    "        super().__init__()\n",
    "        self.model = model\n",
    "        self.loss_fn = nn.CrossEntropyLoss()\n",
    "        self.weight_decay = weight_decay\n",
    "        self.train_accuracy = torchmetrics.Accuracy(task=\"binary\")\n",
    "        self.train_loss = torchmetrics.MeanMetric()\n",
    "\n",
    "    def forward(self, x):\n",
    "        return self.model(x)\n",
    "\n",
    "    def training_step(self, batch, batch_idx):\n",
    "        x, y = batch[\"image\"], batch[\"label\"]\n",
    "        logits = self(x)\n",
    "        loss = self.loss_fn(logits, y)\n",
    "        preds = torch.argmax(logits, dim=1)\n",
    "\n",
    "        # Update accuracy metric\n",
    "        self.train_accuracy(preds, y)\n",
    "        self.train_loss(loss)\n",
    "\n",
    "        self.log(\"train_acc_step\", self.train_accuracy, prog_bar=True)\n",
    "        self.log(\"train_loss_step\", self.train_loss, prog_bar=True)\n",
    "\n",
    "        return loss\n",
    "\n",
    "    def on_train_epoch_end(self):\n",
    "        # log epoch metric\n",
    "        self.log(\"train_acc_epoch\", self.train_accuracy)\n",
    "        self.log(\"train_loss_epoch\", self.train_loss)\n",
    "\n",
    "    def configure_optimizers(self):\n",
    "        return torch.optim.Adam(self.parameters(), lr=0.001, weight_decay=self.weight_decay)"
   ]
  },
  {
   "cell_type": "markdown",
   "metadata": {
    "id": "62EaBhp9btET"
   },
   "source": [
    "## Data Augmentation\n",
    "\n",
    "Data augmentation is the process of applying random transformations to the input data before it is processed by the model. This increases the robustness of the model and improves its generalization capabilities.\n",
    "\n",
    "**Note**: Always check if the data augmentations are plausible and not too extreme!"
   ]
  },
  {
   "cell_type": "code",
   "execution_count": null,
   "metadata": {
    "id": "uHiq5o_abtET"
   },
   "outputs": [],
   "source": [
    "tr_train = transforms.Compose(\n",
    "    [\n",
    "        transforms.v2.RGB(),\n",
    "        transforms.RandomResizedCrop((128, 128)),\n",
    "        transforms.RandomHorizontalFlip(),\n",
    "        transforms.RandomRotation(10),\n",
    "        transforms.ColorJitter(),\n",
    "        transforms.ToTensor(),\n",
    "        transforms.Normalize([0.485, 0.456, 0.406], [0.229, 0.224, 0.225]),  # values from model\n",
    "    ]\n",
    ")\n",
    "\n",
    "tr_val = transforms.Compose(\n",
    "    [\n",
    "        transforms.v2.RGB(),\n",
    "        transforms.Resize((128, 128)),\n",
    "        transforms.ToTensor(),\n",
    "        transforms.Normalize([0.485, 0.456, 0.406], [0.229, 0.224, 0.225]),\n",
    "    ]\n",
    ")\n",
    "\n",
    "ds_train = ImageFolder.from_subset(ds, train_ids, transform=tr_train)\n",
    "\n",
    "dl_train = DataLoader(ds_train, batch_size=16, shuffle=True, num_workers=5)"
   ]
  },
  {
   "cell_type": "code",
   "execution_count": null,
   "metadata": {
    "id": "-b-4faClbtEU"
   },
   "outputs": [],
   "source": [
    "obs = next(iter(dl_train))\n",
    "\n",
    "ts.show(obs[\"image\"])"
   ]
  },
  {
   "cell_type": "markdown",
   "metadata": {
    "id": "0EI7eLwSbtEU"
   },
   "source": [
    "**Question**: Does the data still look plausible?"
   ]
  },
  {
   "cell_type": "code",
   "execution_count": null,
   "metadata": {
    "id": "IJVgFJ26btEU"
   },
   "outputs": [],
   "source": [
    "L.seed_everything(123)\n",
    "\n",
    "logger = TensorBoardLogger(SCRIPT_DIR.joinpath(\"lightning_logs\"), name=\"data_augmentation\")\n",
    "\n",
    "model = Classifier(net)\n",
    "trainer = L.Trainer(\n",
    "    devices=\"auto\",\n",
    "    accelerator=\"auto\",\n",
    "    precision=\"32\",\n",
    "    max_steps=10,\n",
    "    fast_dev_run=False,\n",
    "    enable_checkpointing=False,\n",
    "    logger=logger if not DEBUG else None,\n",
    "    default_root_dir=SCRIPT_DIR.joinpath(\"lightning_logs\"),\n",
    ")\n",
    "\n",
    "trainer.fit(model, train_dataloaders=dl_train)"
   ]
  },
  {
   "cell_type": "markdown",
   "metadata": {
    "id": "JxZjvQ3GbtEU"
   },
   "source": [
    "## Early Stopping\n",
    "\n",
    "Early stopping monitors the training process on a separate validation set to determine the optimal point regarding when to stop training (when validation loss / metric is at the best level).\n",
    "\n",
    "Pytorch-lightning provides such functionality out-of-the-box: [pytorch_lightning.callbacks.early_stopping.EarlyStopping](https://lightning.ai/docs/pytorch/stable/common/early_stopping.html)\n",
    "\n",
    "**Make sure to let the model run enough steps such that early stopping is actually stopping the training!**\n",
    "\n",
    "Implement a metric which early stopping should monitor. It should be one calculated on the validation set.\n",
    "\n",
    "\n",
    "Inspect the `Trainer` class and set more appropriate values  (e.g. `val_check_interval` and `max_steps`)"
   ]
  },
  {
   "cell_type": "code",
   "execution_count": null,
   "metadata": {
    "nbgrader": {
     "grade": true,
     "grade_id": "cell-1f63d38b919c30a9",
     "locked": false,
     "points": 0,
     "schema_version": 3,
     "solution": true,
     "task": false
    },
    "id": "Z2ChQyM4btEU"
   },
   "outputs": [],
   "source": [
    "from lightning.pytorch.callbacks.early_stopping import EarlyStopping\n",
    "\n",
    "# Define early stopping callback\n",
    "early_stopping = EarlyStopping(\n",
    "    monitor=\"val/accuracy_epoch\", min_delta=0.00, patience=3, mode=\"max\", verbose=True\n",
    ")"
   ]
  },
  {
   "cell_type": "markdown",
   "metadata": {
    "id": "XQtdfILSbtEU"
   },
   "source": [
    "We use a more fully fledged class of a classifier lightning module."
   ]
  },
  {
   "cell_type": "code",
   "execution_count": null,
   "metadata": {
    "id": "b4UJfx8PbtEU"
   },
   "outputs": [],
   "source": [
    "L.seed_everything(123)\n",
    "\n",
    "from dl_cv_lectures import classifier\n",
    "\n",
    "logger = TensorBoardLogger(SCRIPT_DIR.joinpath(\"lightning_logs\"), name=\"early_stopping\")\n",
    "\n",
    "model = classifier.Classifier(net, num_classes=2)\n",
    "trainer = L.Trainer(\n",
    "    devices=\"auto\",\n",
    "    accelerator=\"auto\",\n",
    "    precision=\"32\",\n",
    "    max_epochs=2,\n",
    "    fast_dev_run=False,\n",
    "    enable_checkpointing=False,\n",
    "    logger=logger if not DEBUG else None,\n",
    "    callbacks=[early_stopping],  # Add the early stopping callback here\n",
    "    default_root_dir=SCRIPT_DIR.joinpath(\"lightning_logs\"),\n",
    ")\n",
    "\n",
    "dl_val = DataLoader(ds_val, batch_size=64, shuffle=False, num_workers=5)\n",
    "\n",
    "trainer.fit(model, train_dataloaders=dl_train, val_dataloaders=dl_val)"
   ]
  },
  {
   "cell_type": "markdown",
   "metadata": {
    "id": "M7aVWrE9btEU"
   },
   "source": [
    "**Question**: Compare training metrics with validation metrics. What do you observe?"
   ]
  },
  {
   "cell_type": "markdown",
   "metadata": {
    "id": "k_Dd1UaWbtEU"
   },
   "source": [
    "# Step 5 - Hyper-Parameter Optimization\n",
    "\n",
    "To optimize hyper parameters we need to consider the following:\n",
    "- paramaterize training process (architecture and pre-processing)\n",
    "- experiment tracking software\n",
    "- evaluation procedures (such as cross-validation for smaller datasets)\n",
    "- use specialized packages to track and run experiments in parallel\n",
    "\n",
    "\n",
    "**Hyper-Parameter Tuning can be time consuming!** You might want to skip it for now.\n",
    "\n",
    "Ideally one uses special libraries such as [RayTune](https://docs.ray.io/en/latest/tune/index.html).\n",
    "\n",
    "We combine `RayTune` with `Lightning`. Here is the example we follow below: [Link](https://docs.ray.io/en/latest/tune/examples/tune-pytorch-lightning.html)\n",
    "\n",
    "We systematically test different data augmentation methods.\n",
    "\n",
    "We use a `L.LightningDataModule` to parameterize and simplify data preparation, since data augmentation is defined on the dataset level."
   ]
  },
  {
   "cell_type": "markdown",
   "metadata": {
    "id": "JThLiZYdbtEU"
   },
   "source": [
    "## Setup\n",
    "\n",
    "We setup all the necessary data."
   ]
  },
  {
   "cell_type": "code",
   "execution_count": null,
   "metadata": {
    "id": "srKbPsydbtEU"
   },
   "outputs": [],
   "source": [
    "from dl_cv_lectures import utils\n",
    "from dl_cv_lectures.data.image_folder import ImageFolder\n",
    "\n",
    "image_root_path = DATA_PATH.joinpath(\"cats_vs_dogs/PetImages\")\n",
    "\n",
    "ds = ImageFolder(image_root_path)\n",
    "\n",
    "all_ids = [i for i in range(0, len(ds.observations))]\n",
    "all_labels = [x[\"label\"] for x in ds.observations]\n",
    "\n",
    "train_ids, val_ids, test_ids = utils.create_train_test_split(\n",
    "    all_ids, all_labels, random_state=123, test_size=0.2, val_size=0.1\n",
    ")\n",
    "\n",
    "ds_train = ImageFolder.from_subset(ds, train_ids)\n",
    "ds_val = ImageFolder.from_subset(ds, val_ids)\n",
    "ds_test = ImageFolder.from_subset(ds, test_ids)"
   ]
  },
  {
   "cell_type": "markdown",
   "metadata": {
    "id": "UVlDliOibtEU"
   },
   "source": [
    "## Define Parameter Grid\n",
    "\n",
    "We need to define a `search_space` that specifies which hyper parameters to vary and how to sample from them."
   ]
  },
  {
   "cell_type": "code",
   "execution_count": null,
   "metadata": {
    "id": "iYbaEHQEbtEU"
   },
   "outputs": [],
   "source": [
    "# Define the different augmentation strategies\n",
    "norm = transforms.Normalize(mean=[0.485, 0.456, 0.406], std=[0.229, 0.224, 0.225])\n",
    "\n",
    "\n",
    "test_transforms = transforms.Compose(\n",
    "    [\n",
    "        transforms.v2.RGB(),\n",
    "        transforms.Resize((224, 224)),\n",
    "        transforms.ToTensor(),\n",
    "        norm,\n",
    "    ]\n",
    ")\n",
    "\n",
    "\n",
    "simple_transforms = transforms.Compose(\n",
    "    [\n",
    "        transforms.v2.RGB(),\n",
    "        transforms.Resize(256),\n",
    "        transforms.CenterCrop(224),\n",
    "        transforms.ToTensor(),\n",
    "        norm,\n",
    "    ]\n",
    ")\n",
    "\n",
    "complex_transforms = transforms.Compose(\n",
    "    [\n",
    "        transforms.v2.RGB(),\n",
    "        transforms.RandomResizedCrop(224),\n",
    "        transforms.RandomHorizontalFlip(),\n",
    "        transforms.ColorJitter(brightness=0.2, contrast=0.2, saturation=0.2, hue=0.1),\n",
    "        transforms.ToTensor(),\n",
    "        norm,\n",
    "    ]\n",
    ")\n",
    "\n",
    "wild_transforms = transforms.Compose(\n",
    "    [\n",
    "        transforms.v2.RGB(),\n",
    "        transforms.RandomResizedCrop(224),\n",
    "        transforms.RandomHorizontalFlip(),\n",
    "        transforms.RandomRotation(degrees=20),\n",
    "        transforms.RandomApply(\n",
    "            [transforms.ColorJitter(brightness=0.5, contrast=0.5, saturation=0.5, hue=0.2)],\n",
    "            p=0.8,\n",
    "        ),\n",
    "        transforms.RandomGrayscale(p=0.2),\n",
    "        transforms.ToTensor(),\n",
    "        norm,\n",
    "    ]\n",
    ")\n",
    "\n",
    "PRE_PROCESSING = {\n",
    "    \"test\": test_transforms,\n",
    "    \"simple\": simple_transforms,\n",
    "    \"complex\": complex_transforms,\n",
    "    \"wild\": wild_transforms,\n",
    "}"
   ]
  },
  {
   "cell_type": "code",
   "execution_count": null,
   "metadata": {
    "id": "PbgmUZUBbtEV"
   },
   "outputs": [],
   "source": [
    "import ray\n",
    "\n",
    "ray.init(configure_logging=False)"
   ]
  },
  {
   "cell_type": "markdown",
   "metadata": {
    "id": "2hq8jzvKbtEV"
   },
   "source": [
    "This is the search space we define. We only want to vary the data augmentation."
   ]
  },
  {
   "cell_type": "code",
   "execution_count": null,
   "metadata": {
    "id": "ydKh_hg8btEV"
   },
   "outputs": [],
   "source": [
    "from ray import tune\n",
    "\n",
    "search_space = {\n",
    "    \"pre_processing\": tune.grid_search([\"simple\", \"complex\", \"wild\"]),\n",
    "    \"batch_size\": 32,\n",
    "    \"epochs\": 2,\n",
    "}"
   ]
  },
  {
   "cell_type": "code",
   "execution_count": null,
   "metadata": {
    "id": "vlJKtq7wbtEV"
   },
   "outputs": [],
   "source": [
    "dm = DataSetModule(\n",
    "    ds_train=ds_train,\n",
    "    ds_val=ds_val,\n",
    "    ds_test=ds_test,\n",
    "    classes=[\"Cat\", \"Dog\"],\n",
    "    train_transform=complex_transforms,\n",
    "    test_transform=test_transforms,\n",
    "    batch_size=32,\n",
    ")"
   ]
  },
  {
   "cell_type": "code",
   "execution_count": null,
   "metadata": {
    "id": "mmelhWhqbtEV"
   },
   "outputs": [],
   "source": [
    "dm.setup(\"fit\")"
   ]
  },
  {
   "cell_type": "code",
   "execution_count": null,
   "metadata": {
    "id": "4Lg2VJ92btEV"
   },
   "outputs": [],
   "source": [
    "dl_train = dm.train_dataloader()"
   ]
  },
  {
   "cell_type": "code",
   "execution_count": null,
   "metadata": {
    "id": "XXBHE6d2btEV"
   },
   "outputs": [],
   "source": [
    "batch = next(iter(dl_train))"
   ]
  },
  {
   "cell_type": "code",
   "execution_count": null,
   "metadata": {
    "id": "mZ_kGHHobtEV"
   },
   "outputs": [],
   "source": [
    "batch[\"label\"]"
   ]
  },
  {
   "cell_type": "code",
   "execution_count": null,
   "metadata": {
    "id": "D1inTzHebtEV"
   },
   "outputs": [],
   "source": [
    "dl_val = dm.val_dataloader()\n",
    "batch = next(iter(dl_val))\n",
    "batch[\"label\"]"
   ]
  },
  {
   "cell_type": "markdown",
   "metadata": {
    "id": "-oAhAx3qbtEV"
   },
   "source": [
    "## Setup Ray Tuner Loop\n",
    "\n",
    "Next we define a configurable `train_func` which creates a `lightning.Trainer` object with some additional `ray.tuner` magic."
   ]
  },
  {
   "cell_type": "code",
   "execution_count": null,
   "metadata": {
    "nbgrader": {
     "grade": true,
     "grade_id": "cell-1bb9b324c9f0b92d",
     "locked": false,
     "points": 0,
     "schema_version": 3,
     "solution": true,
     "task": false
    },
    "id": "MNlj7Qp0btEV"
   },
   "outputs": [],
   "source": [
    "import torchvision.models as models\n",
    "from ray.train.lightning import (\n",
    "    RayDDPStrategy,\n",
    "    RayLightningEnvironment,\n",
    "    RayTrainReportCallback,\n",
    "    prepare_trainer,\n",
    ")\n",
    "\n",
    "from dl_cv_lectures import classifier\n",
    "from dl_cv_lectures.data.image_folder import DataSetModule\n",
    "\n",
    "NUM_CLASSES = 2\n",
    "\n",
    "\n",
    "def train_func(config):\n",
    "    dm = DataSetModule(\n",
    "        ds_train=ds_train,\n",
    "        ds_val=ds_val,\n",
    "        ds_test=ds_test,\n",
    "        classes=[\"Cat\", \"Dog\"],\n",
    "        train_transform=PRE_PROCESSING[config[\"pre_processing\"]],\n",
    "        test_transform=test_transforms,\n",
    "        batch_size=config[\"batch_size\"],\n",
    "    )\n",
    "\n",
    "    logger = TensorBoardLogger(SCRIPT_DIR.joinpath(\"lightning_logs\"), name=\"ray_tune\")\n",
    "\n",
    "    net = models.resnet18(weights=models.ResNet18_Weights.DEFAULT)\n",
    "    net.fc = nn.Sequential(nn.Linear(512, NUM_CLASSES))\n",
    "\n",
    "    model = classifier.Classifier(net, num_classes=2)\n",
    "\n",
    "    trainer = L.Trainer(\n",
    "        devices=\"auto\",\n",
    "        accelerator=\"auto\",\n",
    "        precision=\"32\",\n",
    "        max_epochs=config[\"epochs\"],\n",
    "        fast_dev_run=False,\n",
    "        enable_checkpointing=False,\n",
    "        logger=logger if not DEBUG else None,\n",
    "        # callbacks=[early_stopping],  # Add the early stopping callback here\n",
    "        # default_root_dir=SCRIPT_DIR.joinpath(\"lightning_logs\"),\n",
    "        strategy=RayDDPStrategy(),\n",
    "        callbacks=[RayTrainReportCallback()],\n",
    "        plugins=[RayLightningEnvironment()],\n",
    "        enable_progress_bar=False,\n",
    "    )\n",
    "\n",
    "    trainer = prepare_trainer(trainer)\n",
    "    trainer.fit(model, datamodule=dm)"
   ]
  },
  {
   "cell_type": "markdown",
   "metadata": {
    "id": "BpcMGy8TbtEV"
   },
   "source": [
    "We can specify the hardware ressources that we want to invest in the tuning process."
   ]
  },
  {
   "cell_type": "code",
   "execution_count": null,
   "metadata": {
    "id": "Pa1V7cbZbtEV"
   },
   "outputs": [],
   "source": [
    "from ray.train import CheckpointConfig, RunConfig, ScalingConfig\n",
    "\n",
    "scaling_config = ScalingConfig(\n",
    "    num_workers=1, use_gpu=True, resources_per_worker={\"CPU\": 4, \"GPU\": 1}\n",
    ")\n",
    "\n",
    "run_config = RunConfig(\n",
    "    checkpoint_config=CheckpointConfig(\n",
    "        num_to_keep=None,\n",
    "        checkpoint_score_attribute=\"val/accuracy_epoch\",\n",
    "        checkpoint_score_order=\"max\",\n",
    "    ),\n",
    "    storage_path=DATA_PATH.joinpath(\"lightning_logs/ray\"),\n",
    "    name=\"data_augmentation\",\n",
    ")"
   ]
  },
  {
   "cell_type": "code",
   "execution_count": null,
   "metadata": {
    "id": "b_R-uUEGbtEV"
   },
   "outputs": [],
   "source": [
    "from ray.train.torch import TorchTrainer\n",
    "\n",
    "# Define a TorchTrainer without hyper-parameters for Tuner\n",
    "ray_trainer = TorchTrainer(\n",
    "    train_func,\n",
    "    scaling_config=scaling_config,\n",
    "    run_config=run_config,\n",
    ")"
   ]
  },
  {
   "cell_type": "markdown",
   "metadata": {
    "id": "2g6NFBkqbtEV"
   },
   "source": [
    "We now define a scheduler, which is responible to select parameters for model training.\n",
    "\n",
    "In this case we deliberately only have 3 different hyper-parameter options. But it could be much much more from which the scheduler must choose."
   ]
  },
  {
   "cell_type": "code",
   "execution_count": null,
   "metadata": {
    "id": "1dITuVkhbtEW"
   },
   "outputs": [],
   "source": [
    "from ray.tune.schedulers import ASHAScheduler\n",
    "\n",
    "\n",
    "def tune_asha(num_samples=10):\n",
    "    scheduler = ASHAScheduler(\n",
    "        time_attr=\"training_iteration\", max_t=1000, grace_period=100, reduction_factor=2\n",
    "    )\n",
    "\n",
    "    tuner = tune.Tuner(\n",
    "        ray_trainer,\n",
    "        param_space={\"train_loop_config\": search_space},\n",
    "        tune_config=tune.TuneConfig(\n",
    "            metric=\"val/accuracy_epoch\",\n",
    "            mode=\"max\",\n",
    "            num_samples=num_samples,\n",
    "            scheduler=scheduler,\n",
    "        ),\n",
    "    )\n",
    "    return tuner.fit()\n",
    "\n",
    "\n",
    "if not DEBUG:\n",
    "    results = tune_asha(num_samples=1)"
   ]
  },
  {
   "cell_type": "code",
   "execution_count": null,
   "metadata": {
    "id": "Ji3IUcrNbtEW"
   },
   "outputs": [],
   "source": [
    "if not DEBUG:\n",
    "    results"
   ]
  },
  {
   "cell_type": "markdown",
   "metadata": {
    "id": "WvQ4T2c5btEW"
   },
   "source": [
    "# Step 6 - Squeeze out the Juice!\n",
    "\n",
    "You can try the following techniques to get even further:\n",
    "\n",
    "- advanced data augmentation. For example: https://pytorch.org/vision/main/auto_examples/transforms/plot_cutmix_mixup.html#sphx-glr-auto-examples-transforms-plot-cutmix-mixup-py\n",
    "- model ensembling. Train multiple models and combine their predictions.\n",
    "- advanced techniques: AdamW Optimizer, Stochastic Depth Regularization\n",
    "\n",
    "\n",
    "**Task**: Try it out for yourself."
   ]
  },
  {
   "cell_type": "markdown",
   "metadata": {
    "nbgrader": {
     "grade": false,
     "grade_id": "cell-52424cc5813975bf",
     "locked": true,
     "schema_version": 3,
     "solution": false,
     "task": false
    },
    "tags": [],
    "id": "kd5DIH2ibtEW"
   },
   "source": [
    "# 3) Evaluate your model\n",
    "\n",
    "We may want to evaluate our model in more detail. In particular we want to know where the model works well and where it fails. This might give us additional insight in the data and the difficulties."
   ]
  },
  {
   "cell_type": "code",
   "execution_count": null,
   "metadata": {
    "id": "NlAP_p94btEW"
   },
   "outputs": [],
   "source": [
    "from dl_cv_lectures import utils\n",
    "from dl_cv_lectures.data.image_folder import ImageFolder\n",
    "\n",
    "image_root_path = DATA_PATH.joinpath(\"cats_vs_dogs/PetImages\")\n",
    "\n",
    "ds = ImageFolder(image_root_path)\n",
    "\n",
    "all_ids = [i for i in range(0, len(ds.observations))]\n",
    "all_labels = [x[\"label\"] for x in ds.observations]\n",
    "\n",
    "train_ids, val_ids, test_ids = utils.create_train_test_split(\n",
    "    all_ids, all_labels, random_state=123, test_size=0.2, val_size=0.1\n",
    ")\n",
    "\n",
    "ds_train = ImageFolder.from_subset(ds, train_ids)\n",
    "ds_val = ImageFolder.from_subset(ds, val_ids)\n",
    "ds_test = ImageFolder.from_subset(ds, test_ids)\n",
    "\n",
    "\n",
    "dm = DataSetModule(\n",
    "    ds_train=ds_train,\n",
    "    ds_val=ds_val,\n",
    "    ds_test=ds_test,\n",
    "    classes=[\"Cat\", \"Dog\"],\n",
    "    train_transform=complex_transforms,\n",
    "    test_transform=test_transforms,\n",
    "    batch_size=32,\n",
    ")\n",
    "\n",
    "trainer = L.Trainer(\n",
    "    devices=\"auto\",\n",
    "    accelerator=\"auto\",\n",
    "    precision=\"32\",\n",
    "    max_epochs=2,\n",
    "    fast_dev_run=False,\n",
    "    enable_checkpointing=False,\n",
    "    default_root_dir=SCRIPT_DIR.joinpath(\"lightning_logs\"),\n",
    ")\n",
    "\n",
    "# trainer.test(model, dm)"
   ]
  },
  {
   "cell_type": "markdown",
   "metadata": {
    "nbgrader": {
     "grade": false,
     "grade_id": "cell-3368f29ef9e4cc98",
     "locked": true,
     "schema_version": 3,
     "solution": false,
     "task": false
    },
    "tags": [],
    "id": "GWVQOxzYbtEW"
   },
   "source": [
    "### Confusion-Matrix\n",
    "\n",
    "Plotten Sie eine _confusion matrix_. Benutzen Sie\n",
    "\n",
    "- [confusion_matrix](https://scikit-learn.org/stable/modules/generated/sklearn.metrics.confusion_matrix.html)\n",
    "- [ConfusionMatrixDisplay](https://scikit-learn.org/stable/modules/generated/sklearn.metrics.ConfusionMatrixDisplay.html#sklearn.metrics.ConfusionMatrixDisplay)"
   ]
  },
  {
   "cell_type": "code",
   "execution_count": null,
   "metadata": {
    "nbgrader": {
     "grade": true,
     "grade_id": "cell-78b9e4f3c69747d5",
     "locked": false,
     "points": 0,
     "schema_version": 3,
     "solution": true,
     "task": false
    },
    "tags": [],
    "id": "z30g6j9TbtEW"
   },
   "outputs": [],
   "source": [
    "from sklearn.metrics import ConfusionMatrixDisplay, confusion_matrix\n",
    "\n",
    "# fig, ax = plt.subplots(figsize=(8, 8))\n",
    "# cm = confusion_matrix(y_true=true_all, y_pred=predicted_all)\n",
    "# disp = ConfusionMatrixDisplay(cm, display_labels=classes)\n",
    "# disp.plot(ax=ax, xticks_rotation='vertical')"
   ]
  },
  {
   "cell_type": "markdown",
   "metadata": {
    "id": "751IaZ02btEW"
   },
   "source": [
    "**Question:** Which classes are confused how?"
   ]
  }
 ],
 "metadata": {
  "kernelspec": {
   "display_name": "Python 3 (ipykernel)",
   "name": "python3",
   "language": "python"
  },
  "language_info": {
   "codemirror_mode": {
    "name": "ipython",
    "version": 3
   },
   "file_extension": ".py",
   "mimetype": "text/x-python",
   "name": "python",
   "nbconvert_exporter": "python",
   "pygments_lexer": "ipython3",
   "version": "3.11.9"
  },
  "colab": {
   "provenance": [
    {
     "file_id": "https://github.com/marco-willi/cas-dl-compvis-exercises-hs2024/blob/main/notebooks/04_classification_practical/classification_practical.ipynb",
     "timestamp": 1730543545426
    }
   ],
   "machine_shape": "hm",
   "gpuType": "V28"
  },
  "accelerator": "TPU",
  "widgets": {
   "application/vnd.jupyter.widget-state+json": {
    "f86410ec4f54418fb9cef47c854339e0": {
     "model_module": "@jupyter-widgets/controls",
     "model_name": "HBoxModel",
     "model_module_version": "1.5.0",
     "state": {
      "_dom_classes": [],
      "_model_module": "@jupyter-widgets/controls",
      "_model_module_version": "1.5.0",
      "_model_name": "HBoxModel",
      "_view_count": null,
      "_view_module": "@jupyter-widgets/controls",
      "_view_module_version": "1.5.0",
      "_view_name": "HBoxView",
      "box_style": "",
      "children": [
       "IPY_MODEL_01cdb336da744f74b90bf11ecd08ec51",
       "IPY_MODEL_d0c13491432344f1a0583c608fa504c0",
       "IPY_MODEL_4e5079847ee44d4283ab557a679fa298"
      ],
      "layout": "IPY_MODEL_0ad594cc5d7c49b2b5b0666d748f8b45"
     }
    },
    "01cdb336da744f74b90bf11ecd08ec51": {
     "model_module": "@jupyter-widgets/controls",
     "model_name": "HTMLModel",
     "model_module_version": "1.5.0",
     "state": {
      "_dom_classes": [],
      "_model_module": "@jupyter-widgets/controls",
      "_model_module_version": "1.5.0",
      "_model_name": "HTMLModel",
      "_view_count": null,
      "_view_module": "@jupyter-widgets/controls",
      "_view_module_version": "1.5.0",
      "_view_name": "HTMLView",
      "description": "",
      "description_tooltip": null,
      "layout": "IPY_MODEL_3fb100269ac54132bce3b1ae3556cb60",
      "placeholder": "​",
      "style": "IPY_MODEL_733dbc3998e346eaa52595896bcafb23",
      "value": "Epoch 0: 100%"
     }
    },
    "d0c13491432344f1a0583c608fa504c0": {
     "model_module": "@jupyter-widgets/controls",
     "model_name": "FloatProgressModel",
     "model_module_version": "1.5.0",
     "state": {
      "_dom_classes": [],
      "_model_module": "@jupyter-widgets/controls",
      "_model_module_version": "1.5.0",
      "_model_name": "FloatProgressModel",
      "_view_count": null,
      "_view_module": "@jupyter-widgets/controls",
      "_view_module_version": "1.5.0",
      "_view_name": "ProgressView",
      "bar_style": "success",
      "description": "",
      "description_tooltip": null,
      "layout": "IPY_MODEL_d2e2421c82924797ad905817ec0553a9",
      "max": 10,
      "min": 0,
      "orientation": "horizontal",
      "style": "IPY_MODEL_611600a048b34d548490f0d18946777e",
      "value": 10
     }
    },
    "4e5079847ee44d4283ab557a679fa298": {
     "model_module": "@jupyter-widgets/controls",
     "model_name": "HTMLModel",
     "model_module_version": "1.5.0",
     "state": {
      "_dom_classes": [],
      "_model_module": "@jupyter-widgets/controls",
      "_model_module_version": "1.5.0",
      "_model_name": "HTMLModel",
      "_view_count": null,
      "_view_module": "@jupyter-widgets/controls",
      "_view_module_version": "1.5.0",
      "_view_name": "HTMLView",
      "description": "",
      "description_tooltip": null,
      "layout": "IPY_MODEL_41feada1e2ee44938ab4d0496aba99d0",
      "placeholder": "​",
      "style": "IPY_MODEL_9372286f34d74b0b84b4840835e22fed",
      "value": " 10/10 [00:08&lt;00:00,  1.17it/s, train/acc_step=0.492, train/loss_step=0.693]"
     }
    },
    "0ad594cc5d7c49b2b5b0666d748f8b45": {
     "model_module": "@jupyter-widgets/base",
     "model_name": "LayoutModel",
     "model_module_version": "1.2.0",
     "state": {
      "_model_module": "@jupyter-widgets/base",
      "_model_module_version": "1.2.0",
      "_model_name": "LayoutModel",
      "_view_count": null,
      "_view_module": "@jupyter-widgets/base",
      "_view_module_version": "1.2.0",
      "_view_name": "LayoutView",
      "align_content": null,
      "align_items": null,
      "align_self": null,
      "border": null,
      "bottom": null,
      "display": "inline-flex",
      "flex": null,
      "flex_flow": "row wrap",
      "grid_area": null,
      "grid_auto_columns": null,
      "grid_auto_flow": null,
      "grid_auto_rows": null,
      "grid_column": null,
      "grid_gap": null,
      "grid_row": null,
      "grid_template_areas": null,
      "grid_template_columns": null,
      "grid_template_rows": null,
      "height": null,
      "justify_content": null,
      "justify_items": null,
      "left": null,
      "margin": null,
      "max_height": null,
      "max_width": null,
      "min_height": null,
      "min_width": null,
      "object_fit": null,
      "object_position": null,
      "order": null,
      "overflow": null,
      "overflow_x": null,
      "overflow_y": null,
      "padding": null,
      "right": null,
      "top": null,
      "visibility": null,
      "width": "100%"
     }
    },
    "3fb100269ac54132bce3b1ae3556cb60": {
     "model_module": "@jupyter-widgets/base",
     "model_name": "LayoutModel",
     "model_module_version": "1.2.0",
     "state": {
      "_model_module": "@jupyter-widgets/base",
      "_model_module_version": "1.2.0",
      "_model_name": "LayoutModel",
      "_view_count": null,
      "_view_module": "@jupyter-widgets/base",
      "_view_module_version": "1.2.0",
      "_view_name": "LayoutView",
      "align_content": null,
      "align_items": null,
      "align_self": null,
      "border": null,
      "bottom": null,
      "display": null,
      "flex": null,
      "flex_flow": null,
      "grid_area": null,
      "grid_auto_columns": null,
      "grid_auto_flow": null,
      "grid_auto_rows": null,
      "grid_column": null,
      "grid_gap": null,
      "grid_row": null,
      "grid_template_areas": null,
      "grid_template_columns": null,
      "grid_template_rows": null,
      "height": null,
      "justify_content": null,
      "justify_items": null,
      "left": null,
      "margin": null,
      "max_height": null,
      "max_width": null,
      "min_height": null,
      "min_width": null,
      "object_fit": null,
      "object_position": null,
      "order": null,
      "overflow": null,
      "overflow_x": null,
      "overflow_y": null,
      "padding": null,
      "right": null,
      "top": null,
      "visibility": null,
      "width": null
     }
    },
    "733dbc3998e346eaa52595896bcafb23": {
     "model_module": "@jupyter-widgets/controls",
     "model_name": "DescriptionStyleModel",
     "model_module_version": "1.5.0",
     "state": {
      "_model_module": "@jupyter-widgets/controls",
      "_model_module_version": "1.5.0",
      "_model_name": "DescriptionStyleModel",
      "_view_count": null,
      "_view_module": "@jupyter-widgets/base",
      "_view_module_version": "1.2.0",
      "_view_name": "StyleView",
      "description_width": ""
     }
    },
    "d2e2421c82924797ad905817ec0553a9": {
     "model_module": "@jupyter-widgets/base",
     "model_name": "LayoutModel",
     "model_module_version": "1.2.0",
     "state": {
      "_model_module": "@jupyter-widgets/base",
      "_model_module_version": "1.2.0",
      "_model_name": "LayoutModel",
      "_view_count": null,
      "_view_module": "@jupyter-widgets/base",
      "_view_module_version": "1.2.0",
      "_view_name": "LayoutView",
      "align_content": null,
      "align_items": null,
      "align_self": null,
      "border": null,
      "bottom": null,
      "display": null,
      "flex": "2",
      "flex_flow": null,
      "grid_area": null,
      "grid_auto_columns": null,
      "grid_auto_flow": null,
      "grid_auto_rows": null,
      "grid_column": null,
      "grid_gap": null,
      "grid_row": null,
      "grid_template_areas": null,
      "grid_template_columns": null,
      "grid_template_rows": null,
      "height": null,
      "justify_content": null,
      "justify_items": null,
      "left": null,
      "margin": null,
      "max_height": null,
      "max_width": null,
      "min_height": null,
      "min_width": null,
      "object_fit": null,
      "object_position": null,
      "order": null,
      "overflow": null,
      "overflow_x": null,
      "overflow_y": null,
      "padding": null,
      "right": null,
      "top": null,
      "visibility": null,
      "width": null
     }
    },
    "611600a048b34d548490f0d18946777e": {
     "model_module": "@jupyter-widgets/controls",
     "model_name": "ProgressStyleModel",
     "model_module_version": "1.5.0",
     "state": {
      "_model_module": "@jupyter-widgets/controls",
      "_model_module_version": "1.5.0",
      "_model_name": "ProgressStyleModel",
      "_view_count": null,
      "_view_module": "@jupyter-widgets/base",
      "_view_module_version": "1.2.0",
      "_view_name": "StyleView",
      "bar_color": null,
      "description_width": ""
     }
    },
    "41feada1e2ee44938ab4d0496aba99d0": {
     "model_module": "@jupyter-widgets/base",
     "model_name": "LayoutModel",
     "model_module_version": "1.2.0",
     "state": {
      "_model_module": "@jupyter-widgets/base",
      "_model_module_version": "1.2.0",
      "_model_name": "LayoutModel",
      "_view_count": null,
      "_view_module": "@jupyter-widgets/base",
      "_view_module_version": "1.2.0",
      "_view_name": "LayoutView",
      "align_content": null,
      "align_items": null,
      "align_self": null,
      "border": null,
      "bottom": null,
      "display": null,
      "flex": null,
      "flex_flow": null,
      "grid_area": null,
      "grid_auto_columns": null,
      "grid_auto_flow": null,
      "grid_auto_rows": null,
      "grid_column": null,
      "grid_gap": null,
      "grid_row": null,
      "grid_template_areas": null,
      "grid_template_columns": null,
      "grid_template_rows": null,
      "height": null,
      "justify_content": null,
      "justify_items": null,
      "left": null,
      "margin": null,
      "max_height": null,
      "max_width": null,
      "min_height": null,
      "min_width": null,
      "object_fit": null,
      "object_position": null,
      "order": null,
      "overflow": null,
      "overflow_x": null,
      "overflow_y": null,
      "padding": null,
      "right": null,
      "top": null,
      "visibility": null,
      "width": null
     }
    },
    "9372286f34d74b0b84b4840835e22fed": {
     "model_module": "@jupyter-widgets/controls",
     "model_name": "DescriptionStyleModel",
     "model_module_version": "1.5.0",
     "state": {
      "_model_module": "@jupyter-widgets/controls",
      "_model_module_version": "1.5.0",
      "_model_name": "DescriptionStyleModel",
      "_view_count": null,
      "_view_module": "@jupyter-widgets/base",
      "_view_module_version": "1.2.0",
      "_view_name": "StyleView",
      "description_width": ""
     }
    },
    "ce63a37d63744b188908ce6fdabc8cc2": {
     "model_module": "@jupyter-widgets/controls",
     "model_name": "HBoxModel",
     "model_module_version": "1.5.0",
     "state": {
      "_dom_classes": [],
      "_model_module": "@jupyter-widgets/controls",
      "_model_module_version": "1.5.0",
      "_model_name": "HBoxModel",
      "_view_count": null,
      "_view_module": "@jupyter-widgets/controls",
      "_view_module_version": "1.5.0",
      "_view_name": "HBoxView",
      "box_style": "",
      "children": [
       "IPY_MODEL_2428499367c64c378d02e3b3f76643ee",
       "IPY_MODEL_6a3ccb927e56445cb3d5d6ef765be335",
       "IPY_MODEL_2b2d97a69be240e0adae7f7020ae506d"
      ],
      "layout": "IPY_MODEL_8be382ebe6484a92b0dce8b59eb16c04"
     }
    },
    "2428499367c64c378d02e3b3f76643ee": {
     "model_module": "@jupyter-widgets/controls",
     "model_name": "HTMLModel",
     "model_module_version": "1.5.0",
     "state": {
      "_dom_classes": [],
      "_model_module": "@jupyter-widgets/controls",
      "_model_module_version": "1.5.0",
      "_model_name": "HTMLModel",
      "_view_count": null,
      "_view_module": "@jupyter-widgets/controls",
      "_view_module_version": "1.5.0",
      "_view_name": "HTMLView",
      "description": "",
      "description_tooltip": null,
      "layout": "IPY_MODEL_cbacb0eaa04444d9bccd3c4aa4fb007b",
      "placeholder": "​",
      "style": "IPY_MODEL_cd9ad0578a324174a29bb0e90182f4f4",
      "value": "Epoch 0: 100%"
     }
    },
    "6a3ccb927e56445cb3d5d6ef765be335": {
     "model_module": "@jupyter-widgets/controls",
     "model_name": "FloatProgressModel",
     "model_module_version": "1.5.0",
     "state": {
      "_dom_classes": [],
      "_model_module": "@jupyter-widgets/controls",
      "_model_module_version": "1.5.0",
      "_model_name": "FloatProgressModel",
      "_view_count": null,
      "_view_module": "@jupyter-widgets/controls",
      "_view_module_version": "1.5.0",
      "_view_name": "ProgressView",
      "bar_style": "success",
      "description": "",
      "description_tooltip": null,
      "layout": "IPY_MODEL_ce4d176204b84fb29dc47a9040bc53cb",
      "max": 10,
      "min": 0,
      "orientation": "horizontal",
      "style": "IPY_MODEL_697a983f5d03436a86a8a7867966e84f",
      "value": 10
     }
    },
    "2b2d97a69be240e0adae7f7020ae506d": {
     "model_module": "@jupyter-widgets/controls",
     "model_name": "HTMLModel",
     "model_module_version": "1.5.0",
     "state": {
      "_dom_classes": [],
      "_model_module": "@jupyter-widgets/controls",
      "_model_module_version": "1.5.0",
      "_model_name": "HTMLModel",
      "_view_count": null,
      "_view_module": "@jupyter-widgets/controls",
      "_view_module_version": "1.5.0",
      "_view_name": "HTMLView",
      "description": "",
      "description_tooltip": null,
      "layout": "IPY_MODEL_9988f9f8dfea4c408f09ee10ec552b8a",
      "placeholder": "​",
      "style": "IPY_MODEL_55e98e0d3df843349f2da434655ebf7f",
      "value": " 10/10 [00:12&lt;00:00,  0.78it/s, train/acc_step=0.492, train/loss_step=0.693]"
     }
    },
    "8be382ebe6484a92b0dce8b59eb16c04": {
     "model_module": "@jupyter-widgets/base",
     "model_name": "LayoutModel",
     "model_module_version": "1.2.0",
     "state": {
      "_model_module": "@jupyter-widgets/base",
      "_model_module_version": "1.2.0",
      "_model_name": "LayoutModel",
      "_view_count": null,
      "_view_module": "@jupyter-widgets/base",
      "_view_module_version": "1.2.0",
      "_view_name": "LayoutView",
      "align_content": null,
      "align_items": null,
      "align_self": null,
      "border": null,
      "bottom": null,
      "display": "inline-flex",
      "flex": null,
      "flex_flow": "row wrap",
      "grid_area": null,
      "grid_auto_columns": null,
      "grid_auto_flow": null,
      "grid_auto_rows": null,
      "grid_column": null,
      "grid_gap": null,
      "grid_row": null,
      "grid_template_areas": null,
      "grid_template_columns": null,
      "grid_template_rows": null,
      "height": null,
      "justify_content": null,
      "justify_items": null,
      "left": null,
      "margin": null,
      "max_height": null,
      "max_width": null,
      "min_height": null,
      "min_width": null,
      "object_fit": null,
      "object_position": null,
      "order": null,
      "overflow": null,
      "overflow_x": null,
      "overflow_y": null,
      "padding": null,
      "right": null,
      "top": null,
      "visibility": null,
      "width": "100%"
     }
    },
    "cbacb0eaa04444d9bccd3c4aa4fb007b": {
     "model_module": "@jupyter-widgets/base",
     "model_name": "LayoutModel",
     "model_module_version": "1.2.0",
     "state": {
      "_model_module": "@jupyter-widgets/base",
      "_model_module_version": "1.2.0",
      "_model_name": "LayoutModel",
      "_view_count": null,
      "_view_module": "@jupyter-widgets/base",
      "_view_module_version": "1.2.0",
      "_view_name": "LayoutView",
      "align_content": null,
      "align_items": null,
      "align_self": null,
      "border": null,
      "bottom": null,
      "display": null,
      "flex": null,
      "flex_flow": null,
      "grid_area": null,
      "grid_auto_columns": null,
      "grid_auto_flow": null,
      "grid_auto_rows": null,
      "grid_column": null,
      "grid_gap": null,
      "grid_row": null,
      "grid_template_areas": null,
      "grid_template_columns": null,
      "grid_template_rows": null,
      "height": null,
      "justify_content": null,
      "justify_items": null,
      "left": null,
      "margin": null,
      "max_height": null,
      "max_width": null,
      "min_height": null,
      "min_width": null,
      "object_fit": null,
      "object_position": null,
      "order": null,
      "overflow": null,
      "overflow_x": null,
      "overflow_y": null,
      "padding": null,
      "right": null,
      "top": null,
      "visibility": null,
      "width": null
     }
    },
    "cd9ad0578a324174a29bb0e90182f4f4": {
     "model_module": "@jupyter-widgets/controls",
     "model_name": "DescriptionStyleModel",
     "model_module_version": "1.5.0",
     "state": {
      "_model_module": "@jupyter-widgets/controls",
      "_model_module_version": "1.5.0",
      "_model_name": "DescriptionStyleModel",
      "_view_count": null,
      "_view_module": "@jupyter-widgets/base",
      "_view_module_version": "1.2.0",
      "_view_name": "StyleView",
      "description_width": ""
     }
    },
    "ce4d176204b84fb29dc47a9040bc53cb": {
     "model_module": "@jupyter-widgets/base",
     "model_name": "LayoutModel",
     "model_module_version": "1.2.0",
     "state": {
      "_model_module": "@jupyter-widgets/base",
      "_model_module_version": "1.2.0",
      "_model_name": "LayoutModel",
      "_view_count": null,
      "_view_module": "@jupyter-widgets/base",
      "_view_module_version": "1.2.0",
      "_view_name": "LayoutView",
      "align_content": null,
      "align_items": null,
      "align_self": null,
      "border": null,
      "bottom": null,
      "display": null,
      "flex": "2",
      "flex_flow": null,
      "grid_area": null,
      "grid_auto_columns": null,
      "grid_auto_flow": null,
      "grid_auto_rows": null,
      "grid_column": null,
      "grid_gap": null,
      "grid_row": null,
      "grid_template_areas": null,
      "grid_template_columns": null,
      "grid_template_rows": null,
      "height": null,
      "justify_content": null,
      "justify_items": null,
      "left": null,
      "margin": null,
      "max_height": null,
      "max_width": null,
      "min_height": null,
      "min_width": null,
      "object_fit": null,
      "object_position": null,
      "order": null,
      "overflow": null,
      "overflow_x": null,
      "overflow_y": null,
      "padding": null,
      "right": null,
      "top": null,
      "visibility": null,
      "width": null
     }
    },
    "697a983f5d03436a86a8a7867966e84f": {
     "model_module": "@jupyter-widgets/controls",
     "model_name": "ProgressStyleModel",
     "model_module_version": "1.5.0",
     "state": {
      "_model_module": "@jupyter-widgets/controls",
      "_model_module_version": "1.5.0",
      "_model_name": "ProgressStyleModel",
      "_view_count": null,
      "_view_module": "@jupyter-widgets/base",
      "_view_module_version": "1.2.0",
      "_view_name": "StyleView",
      "bar_color": null,
      "description_width": ""
     }
    },
    "9988f9f8dfea4c408f09ee10ec552b8a": {
     "model_module": "@jupyter-widgets/base",
     "model_name": "LayoutModel",
     "model_module_version": "1.2.0",
     "state": {
      "_model_module": "@jupyter-widgets/base",
      "_model_module_version": "1.2.0",
      "_model_name": "LayoutModel",
      "_view_count": null,
      "_view_module": "@jupyter-widgets/base",
      "_view_module_version": "1.2.0",
      "_view_name": "LayoutView",
      "align_content": null,
      "align_items": null,
      "align_self": null,
      "border": null,
      "bottom": null,
      "display": null,
      "flex": null,
      "flex_flow": null,
      "grid_area": null,
      "grid_auto_columns": null,
      "grid_auto_flow": null,
      "grid_auto_rows": null,
      "grid_column": null,
      "grid_gap": null,
      "grid_row": null,
      "grid_template_areas": null,
      "grid_template_columns": null,
      "grid_template_rows": null,
      "height": null,
      "justify_content": null,
      "justify_items": null,
      "left": null,
      "margin": null,
      "max_height": null,
      "max_width": null,
      "min_height": null,
      "min_width": null,
      "object_fit": null,
      "object_position": null,
      "order": null,
      "overflow": null,
      "overflow_x": null,
      "overflow_y": null,
      "padding": null,
      "right": null,
      "top": null,
      "visibility": null,
      "width": null
     }
    },
    "55e98e0d3df843349f2da434655ebf7f": {
     "model_module": "@jupyter-widgets/controls",
     "model_name": "DescriptionStyleModel",
     "model_module_version": "1.5.0",
     "state": {
      "_model_module": "@jupyter-widgets/controls",
      "_model_module_version": "1.5.0",
      "_model_name": "DescriptionStyleModel",
      "_view_count": null,
      "_view_module": "@jupyter-widgets/base",
      "_view_module_version": "1.2.0",
      "_view_name": "StyleView",
      "description_width": ""
     }
    }
   }
  }
 },
 "nbformat": 4,
 "nbformat_minor": 0
}
